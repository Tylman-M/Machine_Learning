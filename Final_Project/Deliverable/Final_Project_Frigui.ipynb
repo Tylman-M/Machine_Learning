{
 "cells": [
  {
   "cell_type": "code",
   "execution_count": 24,
   "metadata": {},
   "outputs": [],
   "source": [
    "import pandas as pd, numpy as np, numpy.linalg as nl, inspect, seaborn as sns, plotly, plotly.express as px, pickle, plotly.graph_objects as go, itertools\n",
    "from tqdm import tqdm\n",
    "from matplotlib.pyplot import *\n",
    "from pathlib import Path\n",
    "from sklearn.cluster import KMeans, AgglomerativeClustering,DBSCAN\n",
    "import kneed\n",
    "from sklearn.metrics import roc_auc_score, accuracy_score, f1_score, classification_report,precision_recall_fscore_support, normalized_mutual_info_score,confusion_matrix,ConfusionMatrixDisplay\n",
    "from sklearn.metrics.cluster import contingency_matrix\n",
    "from matplotlib import cm\n",
    "from scipy.cluster.hierarchy import dendrogram, ward,single,complete\n",
    "from sklearn.pipeline import Pipeline\n",
    "from sklearn.decomposition import PCA, KernelPCA\n",
    "from sklearn.preprocessing import StandardScaler, MinMaxScaler, LabelEncoder\n",
    "from sklearn.model_selection import train_test_split, GridSearchCV\n",
    "from sklearn.svm import SVC,LinearSVC\n",
    "from sklearn.linear_model import LogisticRegression\n",
    "from sklearn.naive_bayes import GaussianNB\n",
    "from sklearn.neural_network import MLPClassifier\n",
    "from sklearn.ensemble import RandomForestClassifier, GradientBoostingClassifier, BaggingClassifier, AdaBoostClassifier,StackingClassifier\n",
    "from pandas.api.types import is_numeric_dtype\n",
    "from sklearn.tree import DecisionTreeClassifier\n",
    "from sklearn.calibration import CalibratedClassifierCV\n",
    "import matplotlib.image as mpimg"
   ]
  },
  {
   "cell_type": "code",
   "execution_count": 25,
   "metadata": {},
   "outputs": [],
   "source": [
    "mapping = dict(np.flip(np.array([[0,'chevrolet_impala_2004-2005'],\n",
    "    [1,  'dodge_grand caravan_2005-2006'],\n",
    "    [2,  'ford_explorer_2001-2002'],\n",
    "    [3,  'honda_accord_2005-2006'],\n",
    "    [4,  'nissan_altima_2005-2006'],\n",
    "    [5,  'toyota_camry_2002-2003'],\n",
    "    [6,  'volkswagen_jetta_2002-2003'],\n",
    "    [7,  'ford_mustang_2000-2001'],\n",
    "    [8,  'ford_taurus_2002-2003'],\n",
    "    [9,  'honda_odyssey_2005-2006']]),axis=1))"
   ]
  },
  {
   "cell_type": "code",
   "execution_count": 26,
   "metadata": {},
   "outputs": [],
   "source": [
    "#Edit these with where you'd like the results to go or the data to come from\n",
    "result_location = Path('results.csv')\n",
    "data_dir = Path('../Data')\n",
    "\n",
    "\n",
    "metadata = pd.read_csv(Path(data_dir,'train_data.csv'),header=None,names=['full_class','filename'])\n",
    "metadata[['make','model','year']] = metadata['full_class'].str.split('_',expand=True)\n",
    "metadata['class'] = metadata['full_class'].apply(lambda x: mapping[x])\n",
    "metadata['class'] = metadata['class'].astype(int)\n",
    "metadata['file_path'] = str(data_dir)+'/train_images/'+metadata['full_class']+'/' + metadata['filename']\n",
    "features = pd.read_csv(Path(data_dir,'train_features.csv'),header=None)\n",
    "test_file = pd.read_csv(Path(data_dir,'test_features.csv'),header=None)\n"
   ]
  },
  {
   "cell_type": "code",
   "execution_count": 27,
   "metadata": {},
   "outputs": [],
   "source": [
    "x_train = features.values\n",
    "y_train = metadata['class'].values\n",
    "x_test = test_file.values"
   ]
  },
  {
   "cell_type": "code",
   "execution_count": 28,
   "metadata": {},
   "outputs": [],
   "source": [
    "STATE = 1"
   ]
  },
  {
   "cell_type": "code",
   "execution_count": 29,
   "metadata": {},
   "outputs": [],
   "source": [
    "mlp_model_1 = MLPClassifier(alpha = .4, hidden_layer_sizes=[256,128,64,64],learning_rate_init=.004)\n",
    "mlp_model_2 = MLPClassifier(alpha = .4, hidden_layer_sizes=[256,128,64,64],learning_rate_init=.004,learning_rate='adaptive')\n",
    "svm_model = SVC(C=1.25,gamma=.12857142857142856,probability=True)\n",
    "rf_model = RandomForestClassifier(max_depth=100,n_estimators=450)"
   ]
  },
  {
   "cell_type": "code",
   "execution_count": 30,
   "metadata": {},
   "outputs": [
    {
     "data": {
      "text/html": [
       "<style>#sk-container-id-2 {color: black;background-color: white;}#sk-container-id-2 pre{padding: 0;}#sk-container-id-2 div.sk-toggleable {background-color: white;}#sk-container-id-2 label.sk-toggleable__label {cursor: pointer;display: block;width: 100%;margin-bottom: 0;padding: 0.3em;box-sizing: border-box;text-align: center;}#sk-container-id-2 label.sk-toggleable__label-arrow:before {content: \"▸\";float: left;margin-right: 0.25em;color: #696969;}#sk-container-id-2 label.sk-toggleable__label-arrow:hover:before {color: black;}#sk-container-id-2 div.sk-estimator:hover label.sk-toggleable__label-arrow:before {color: black;}#sk-container-id-2 div.sk-toggleable__content {max-height: 0;max-width: 0;overflow: hidden;text-align: left;background-color: #f0f8ff;}#sk-container-id-2 div.sk-toggleable__content pre {margin: 0.2em;color: black;border-radius: 0.25em;background-color: #f0f8ff;}#sk-container-id-2 input.sk-toggleable__control:checked~div.sk-toggleable__content {max-height: 200px;max-width: 100%;overflow: auto;}#sk-container-id-2 input.sk-toggleable__control:checked~label.sk-toggleable__label-arrow:before {content: \"▾\";}#sk-container-id-2 div.sk-estimator input.sk-toggleable__control:checked~label.sk-toggleable__label {background-color: #d4ebff;}#sk-container-id-2 div.sk-label input.sk-toggleable__control:checked~label.sk-toggleable__label {background-color: #d4ebff;}#sk-container-id-2 input.sk-hidden--visually {border: 0;clip: rect(1px 1px 1px 1px);clip: rect(1px, 1px, 1px, 1px);height: 1px;margin: -1px;overflow: hidden;padding: 0;position: absolute;width: 1px;}#sk-container-id-2 div.sk-estimator {font-family: monospace;background-color: #f0f8ff;border: 1px dotted black;border-radius: 0.25em;box-sizing: border-box;margin-bottom: 0.5em;}#sk-container-id-2 div.sk-estimator:hover {background-color: #d4ebff;}#sk-container-id-2 div.sk-parallel-item::after {content: \"\";width: 100%;border-bottom: 1px solid gray;flex-grow: 1;}#sk-container-id-2 div.sk-label:hover label.sk-toggleable__label {background-color: #d4ebff;}#sk-container-id-2 div.sk-serial::before {content: \"\";position: absolute;border-left: 1px solid gray;box-sizing: border-box;top: 0;bottom: 0;left: 50%;z-index: 0;}#sk-container-id-2 div.sk-serial {display: flex;flex-direction: column;align-items: center;background-color: white;padding-right: 0.2em;padding-left: 0.2em;position: relative;}#sk-container-id-2 div.sk-item {position: relative;z-index: 1;}#sk-container-id-2 div.sk-parallel {display: flex;align-items: stretch;justify-content: center;background-color: white;position: relative;}#sk-container-id-2 div.sk-item::before, #sk-container-id-2 div.sk-parallel-item::before {content: \"\";position: absolute;border-left: 1px solid gray;box-sizing: border-box;top: 0;bottom: 0;left: 50%;z-index: -1;}#sk-container-id-2 div.sk-parallel-item {display: flex;flex-direction: column;z-index: 1;position: relative;background-color: white;}#sk-container-id-2 div.sk-parallel-item:first-child::after {align-self: flex-end;width: 50%;}#sk-container-id-2 div.sk-parallel-item:last-child::after {align-self: flex-start;width: 50%;}#sk-container-id-2 div.sk-parallel-item:only-child::after {width: 0;}#sk-container-id-2 div.sk-dashed-wrapped {border: 1px dashed gray;margin: 0 0.4em 0.5em 0.4em;box-sizing: border-box;padding-bottom: 0.4em;background-color: white;}#sk-container-id-2 div.sk-label label {font-family: monospace;font-weight: bold;display: inline-block;line-height: 1.2em;}#sk-container-id-2 div.sk-label-container {text-align: center;}#sk-container-id-2 div.sk-container {/* jupyter's `normalize.less` sets `[hidden] { display: none; }` but bootstrap.min.css set `[hidden] { display: none !important; }` so we also need the `!important` here to be able to override the default hidden behavior on the sphinx rendered scikit-learn.org. See: https://github.com/scikit-learn/scikit-learn/issues/21755 */display: inline-block !important;position: relative;}#sk-container-id-2 div.sk-text-repr-fallback {display: none;}</style><div id=\"sk-container-id-2\" class=\"sk-top-container\"><div class=\"sk-text-repr-fallback\"><pre>StackingClassifier(cv=4,\n",
       "                   estimators=[(&#x27;Kmean_mlp&#x27;,\n",
       "                                Pipeline(steps=[(&#x27;Kmean&#x27;,\n",
       "                                                 KMeans(n_clusters=400)),\n",
       "                                                (&#x27;pca&#x27;, PCA(n_components=0.99)),\n",
       "                                                (&#x27;scaler&#x27;, MinMaxScaler()),\n",
       "                                                (&#x27;clf&#x27;,\n",
       "                                                 MLPClassifier(alpha=0.4,\n",
       "                                                               hidden_layer_sizes=[256,\n",
       "                                                                                   128,\n",
       "                                                                                   64,\n",
       "                                                                                   64],\n",
       "                                                               learning_rate_init=0.004))])),\n",
       "                               (&#x27;plain_mlp&#x27;,\n",
       "                                Pipeline(steps=[(&#x27;pca&#x27;, PCA(n_components=0.99)),\n",
       "                                                (&#x27;scaler&#x27;, MinMaxScaler()),\n",
       "                                                (&#x27;clf&#x27;,\n",
       "                                                 MLPCla...\n",
       "                                                               learning_rate_init=0.004))])),\n",
       "                               (&#x27;SVM&#x27;,\n",
       "                                Pipeline(steps=[(&#x27;pca&#x27;, PCA(n_components=0.99)),\n",
       "                                                (&#x27;scaler&#x27;, MinMaxScaler()),\n",
       "                                                (&#x27;clf&#x27;,\n",
       "                                                 SVC(C=1.25,\n",
       "                                                     gamma=0.12857142857142856,\n",
       "                                                     probability=True))])),\n",
       "                               (&#x27;RF&#x27;,\n",
       "                                Pipeline(steps=[(&#x27;pca&#x27;, PCA(n_components=0.99)),\n",
       "                                                (&#x27;scaler&#x27;, MinMaxScaler()),\n",
       "                                                (&#x27;clf&#x27;,\n",
       "                                                 RandomForestClassifier(max_depth=100,\n",
       "                                                                        n_estimators=450))]))],\n",
       "                   final_estimator=CalibratedClassifierCV(), n_jobs=-1)</pre><b>In a Jupyter environment, please rerun this cell to show the HTML representation or trust the notebook. <br />On GitHub, the HTML representation is unable to render, please try loading this page with nbviewer.org.</b></div><div class=\"sk-container\" hidden><div class=\"sk-item sk-dashed-wrapped\"><div class=\"sk-label-container\"><div class=\"sk-label sk-toggleable\"><input class=\"sk-toggleable__control sk-hidden--visually\" id=\"sk-estimator-id-16\" type=\"checkbox\" ><label for=\"sk-estimator-id-16\" class=\"sk-toggleable__label sk-toggleable__label-arrow\">StackingClassifier</label><div class=\"sk-toggleable__content\"><pre>StackingClassifier(cv=4,\n",
       "                   estimators=[(&#x27;Kmean_mlp&#x27;,\n",
       "                                Pipeline(steps=[(&#x27;Kmean&#x27;,\n",
       "                                                 KMeans(n_clusters=400)),\n",
       "                                                (&#x27;pca&#x27;, PCA(n_components=0.99)),\n",
       "                                                (&#x27;scaler&#x27;, MinMaxScaler()),\n",
       "                                                (&#x27;clf&#x27;,\n",
       "                                                 MLPClassifier(alpha=0.4,\n",
       "                                                               hidden_layer_sizes=[256,\n",
       "                                                                                   128,\n",
       "                                                                                   64,\n",
       "                                                                                   64],\n",
       "                                                               learning_rate_init=0.004))])),\n",
       "                               (&#x27;plain_mlp&#x27;,\n",
       "                                Pipeline(steps=[(&#x27;pca&#x27;, PCA(n_components=0.99)),\n",
       "                                                (&#x27;scaler&#x27;, MinMaxScaler()),\n",
       "                                                (&#x27;clf&#x27;,\n",
       "                                                 MLPCla...\n",
       "                                                               learning_rate_init=0.004))])),\n",
       "                               (&#x27;SVM&#x27;,\n",
       "                                Pipeline(steps=[(&#x27;pca&#x27;, PCA(n_components=0.99)),\n",
       "                                                (&#x27;scaler&#x27;, MinMaxScaler()),\n",
       "                                                (&#x27;clf&#x27;,\n",
       "                                                 SVC(C=1.25,\n",
       "                                                     gamma=0.12857142857142856,\n",
       "                                                     probability=True))])),\n",
       "                               (&#x27;RF&#x27;,\n",
       "                                Pipeline(steps=[(&#x27;pca&#x27;, PCA(n_components=0.99)),\n",
       "                                                (&#x27;scaler&#x27;, MinMaxScaler()),\n",
       "                                                (&#x27;clf&#x27;,\n",
       "                                                 RandomForestClassifier(max_depth=100,\n",
       "                                                                        n_estimators=450))]))],\n",
       "                   final_estimator=CalibratedClassifierCV(), n_jobs=-1)</pre></div></div></div><div class=\"sk-serial\"><div class=\"sk-item\"><div class=\"sk-parallel\"><div class=\"sk-parallel-item\"><div class=\"sk-item\"><div class=\"sk-label-container\"><div class=\"sk-label sk-toggleable\"><label>Kmean_mlp</label></div></div><div class=\"sk-serial\"><div class=\"sk-item\"><div class=\"sk-serial\"><div class=\"sk-item\"><div class=\"sk-estimator sk-toggleable\"><input class=\"sk-toggleable__control sk-hidden--visually\" id=\"sk-estimator-id-17\" type=\"checkbox\" ><label for=\"sk-estimator-id-17\" class=\"sk-toggleable__label sk-toggleable__label-arrow\">KMeans</label><div class=\"sk-toggleable__content\"><pre>KMeans(n_clusters=400)</pre></div></div></div><div class=\"sk-item\"><div class=\"sk-estimator sk-toggleable\"><input class=\"sk-toggleable__control sk-hidden--visually\" id=\"sk-estimator-id-18\" type=\"checkbox\" ><label for=\"sk-estimator-id-18\" class=\"sk-toggleable__label sk-toggleable__label-arrow\">PCA</label><div class=\"sk-toggleable__content\"><pre>PCA(n_components=0.99)</pre></div></div></div><div class=\"sk-item\"><div class=\"sk-estimator sk-toggleable\"><input class=\"sk-toggleable__control sk-hidden--visually\" id=\"sk-estimator-id-19\" type=\"checkbox\" ><label for=\"sk-estimator-id-19\" class=\"sk-toggleable__label sk-toggleable__label-arrow\">MinMaxScaler</label><div class=\"sk-toggleable__content\"><pre>MinMaxScaler()</pre></div></div></div><div class=\"sk-item\"><div class=\"sk-estimator sk-toggleable\"><input class=\"sk-toggleable__control sk-hidden--visually\" id=\"sk-estimator-id-20\" type=\"checkbox\" ><label for=\"sk-estimator-id-20\" class=\"sk-toggleable__label sk-toggleable__label-arrow\">MLPClassifier</label><div class=\"sk-toggleable__content\"><pre>MLPClassifier(alpha=0.4, hidden_layer_sizes=[256, 128, 64, 64],\n",
       "              learning_rate_init=0.004)</pre></div></div></div></div></div></div></div></div><div class=\"sk-parallel-item\"><div class=\"sk-item\"><div class=\"sk-label-container\"><div class=\"sk-label sk-toggleable\"><label>plain_mlp</label></div></div><div class=\"sk-serial\"><div class=\"sk-item\"><div class=\"sk-serial\"><div class=\"sk-item\"><div class=\"sk-estimator sk-toggleable\"><input class=\"sk-toggleable__control sk-hidden--visually\" id=\"sk-estimator-id-21\" type=\"checkbox\" ><label for=\"sk-estimator-id-21\" class=\"sk-toggleable__label sk-toggleable__label-arrow\">PCA</label><div class=\"sk-toggleable__content\"><pre>PCA(n_components=0.99)</pre></div></div></div><div class=\"sk-item\"><div class=\"sk-estimator sk-toggleable\"><input class=\"sk-toggleable__control sk-hidden--visually\" id=\"sk-estimator-id-22\" type=\"checkbox\" ><label for=\"sk-estimator-id-22\" class=\"sk-toggleable__label sk-toggleable__label-arrow\">MinMaxScaler</label><div class=\"sk-toggleable__content\"><pre>MinMaxScaler()</pre></div></div></div><div class=\"sk-item\"><div class=\"sk-estimator sk-toggleable\"><input class=\"sk-toggleable__control sk-hidden--visually\" id=\"sk-estimator-id-23\" type=\"checkbox\" ><label for=\"sk-estimator-id-23\" class=\"sk-toggleable__label sk-toggleable__label-arrow\">MLPClassifier</label><div class=\"sk-toggleable__content\"><pre>MLPClassifier(alpha=0.4, hidden_layer_sizes=[256, 128, 64, 64],\n",
       "              learning_rate=&#x27;adaptive&#x27;, learning_rate_init=0.004)</pre></div></div></div></div></div></div></div></div><div class=\"sk-parallel-item\"><div class=\"sk-item\"><div class=\"sk-label-container\"><div class=\"sk-label sk-toggleable\"><label>SVM</label></div></div><div class=\"sk-serial\"><div class=\"sk-item\"><div class=\"sk-serial\"><div class=\"sk-item\"><div class=\"sk-estimator sk-toggleable\"><input class=\"sk-toggleable__control sk-hidden--visually\" id=\"sk-estimator-id-24\" type=\"checkbox\" ><label for=\"sk-estimator-id-24\" class=\"sk-toggleable__label sk-toggleable__label-arrow\">PCA</label><div class=\"sk-toggleable__content\"><pre>PCA(n_components=0.99)</pre></div></div></div><div class=\"sk-item\"><div class=\"sk-estimator sk-toggleable\"><input class=\"sk-toggleable__control sk-hidden--visually\" id=\"sk-estimator-id-25\" type=\"checkbox\" ><label for=\"sk-estimator-id-25\" class=\"sk-toggleable__label sk-toggleable__label-arrow\">MinMaxScaler</label><div class=\"sk-toggleable__content\"><pre>MinMaxScaler()</pre></div></div></div><div class=\"sk-item\"><div class=\"sk-estimator sk-toggleable\"><input class=\"sk-toggleable__control sk-hidden--visually\" id=\"sk-estimator-id-26\" type=\"checkbox\" ><label for=\"sk-estimator-id-26\" class=\"sk-toggleable__label sk-toggleable__label-arrow\">SVC</label><div class=\"sk-toggleable__content\"><pre>SVC(C=1.25, gamma=0.12857142857142856, probability=True)</pre></div></div></div></div></div></div></div></div><div class=\"sk-parallel-item\"><div class=\"sk-item\"><div class=\"sk-label-container\"><div class=\"sk-label sk-toggleable\"><label>RF</label></div></div><div class=\"sk-serial\"><div class=\"sk-item\"><div class=\"sk-serial\"><div class=\"sk-item\"><div class=\"sk-estimator sk-toggleable\"><input class=\"sk-toggleable__control sk-hidden--visually\" id=\"sk-estimator-id-27\" type=\"checkbox\" ><label for=\"sk-estimator-id-27\" class=\"sk-toggleable__label sk-toggleable__label-arrow\">PCA</label><div class=\"sk-toggleable__content\"><pre>PCA(n_components=0.99)</pre></div></div></div><div class=\"sk-item\"><div class=\"sk-estimator sk-toggleable\"><input class=\"sk-toggleable__control sk-hidden--visually\" id=\"sk-estimator-id-28\" type=\"checkbox\" ><label for=\"sk-estimator-id-28\" class=\"sk-toggleable__label sk-toggleable__label-arrow\">MinMaxScaler</label><div class=\"sk-toggleable__content\"><pre>MinMaxScaler()</pre></div></div></div><div class=\"sk-item\"><div class=\"sk-estimator sk-toggleable\"><input class=\"sk-toggleable__control sk-hidden--visually\" id=\"sk-estimator-id-29\" type=\"checkbox\" ><label for=\"sk-estimator-id-29\" class=\"sk-toggleable__label sk-toggleable__label-arrow\">RandomForestClassifier</label><div class=\"sk-toggleable__content\"><pre>RandomForestClassifier(max_depth=100, n_estimators=450)</pre></div></div></div></div></div></div></div></div></div></div><div class=\"sk-item\"><div class=\"sk-parallel\"><div class=\"sk-parallel-item\"><div class=\"sk-item\"><div class=\"sk-label-container\"><div class=\"sk-label sk-toggleable\"><label>final_estimator</label></div></div><div class=\"sk-serial\"><div class=\"sk-item\"><div class=\"sk-estimator sk-toggleable\"><input class=\"sk-toggleable__control sk-hidden--visually\" id=\"sk-estimator-id-30\" type=\"checkbox\" ><label for=\"sk-estimator-id-30\" class=\"sk-toggleable__label sk-toggleable__label-arrow\">CalibratedClassifierCV</label><div class=\"sk-toggleable__content\"><pre>CalibratedClassifierCV()</pre></div></div></div></div></div></div></div></div></div></div></div></div>"
      ],
      "text/plain": [
       "StackingClassifier(cv=4,\n",
       "                   estimators=[('Kmean_mlp',\n",
       "                                Pipeline(steps=[('Kmean',\n",
       "                                                 KMeans(n_clusters=400)),\n",
       "                                                ('pca', PCA(n_components=0.99)),\n",
       "                                                ('scaler', MinMaxScaler()),\n",
       "                                                ('clf',\n",
       "                                                 MLPClassifier(alpha=0.4,\n",
       "                                                               hidden_layer_sizes=[256,\n",
       "                                                                                   128,\n",
       "                                                                                   64,\n",
       "                                                                                   64],\n",
       "                                                               learning_rate_init=0.004))])),\n",
       "                               ('plain_mlp',\n",
       "                                Pipeline(steps=[('pca', PCA(n_components=0.99)),\n",
       "                                                ('scaler', MinMaxScaler()),\n",
       "                                                ('clf',\n",
       "                                                 MLPCla...\n",
       "                                                               learning_rate_init=0.004))])),\n",
       "                               ('SVM',\n",
       "                                Pipeline(steps=[('pca', PCA(n_components=0.99)),\n",
       "                                                ('scaler', MinMaxScaler()),\n",
       "                                                ('clf',\n",
       "                                                 SVC(C=1.25,\n",
       "                                                     gamma=0.12857142857142856,\n",
       "                                                     probability=True))])),\n",
       "                               ('RF',\n",
       "                                Pipeline(steps=[('pca', PCA(n_components=0.99)),\n",
       "                                                ('scaler', MinMaxScaler()),\n",
       "                                                ('clf',\n",
       "                                                 RandomForestClassifier(max_depth=100,\n",
       "                                                                        n_estimators=450))]))],\n",
       "                   final_estimator=CalibratedClassifierCV(), n_jobs=-1)"
      ]
     },
     "execution_count": 30,
     "metadata": {},
     "output_type": "execute_result"
    }
   ],
   "source": [
    "estimators = [('Kmean_mlp',\n",
    "               Pipeline([('Kmean',KMeans(n_clusters=400)),('pca',PCA(n_components=.99)),('scaler',MinMaxScaler()),('clf',mlp_model_1)])),\n",
    "               ('plain_mlp',\n",
    "               Pipeline([('pca',PCA(n_components=.99)),('scaler',MinMaxScaler()),('clf',mlp_model_2)])),\n",
    "               ('SVM',\n",
    "               Pipeline([('pca',PCA(n_components=.99)),('scaler',MinMaxScaler()),('clf',svm_model)])),\n",
    "               ('RF',\n",
    "               Pipeline([('pca',PCA(n_components=.99)),('scaler',MinMaxScaler()),('clf',rf_model)]))\n",
    "               ]\n",
    "\n",
    "stacked = StackingClassifier(estimators=estimators,n_jobs=-1, cv=4,final_estimator=CalibratedClassifierCV())#CV=4 requirement\n",
    "stacked.fit(x_train,y_train)\n"
   ]
  },
  {
   "cell_type": "code",
   "execution_count": 31,
   "metadata": {},
   "outputs": [],
   "source": [
    "test_results = stacked.predict(x_test)"
   ]
  },
  {
   "cell_type": "code",
   "execution_count": 32,
   "metadata": {},
   "outputs": [],
   "source": [
    "df = pd.DataFrame(columns=['called'], data=test_results)"
   ]
  },
  {
   "cell_type": "code",
   "execution_count": 33,
   "metadata": {},
   "outputs": [],
   "source": [
    "df.to_csv('FINAL_TEST_RESULTS.csv',index=False,header=None)"
   ]
  },
  {
   "cell_type": "code",
   "execution_count": 50,
   "metadata": {},
   "outputs": [
    {
     "data": {
      "text/plain": [
       "6    12\n",
       "3     5\n",
       "4     1\n",
       "1     1\n",
       "5     1\n",
       "Name: called, dtype: int64"
      ]
     },
     "execution_count": 50,
     "metadata": {},
     "output_type": "execute_result"
    }
   ],
   "source": []
  },
  {
   "cell_type": "code",
   "execution_count": 40,
   "metadata": {},
   "outputs": [
    {
     "data": {
      "text/plain": [
       "0.86"
      ]
     },
     "execution_count": 40,
     "metadata": {},
     "output_type": "execute_result"
    }
   ],
   "source": []
  },
  {
   "cell_type": "code",
   "execution_count": null,
   "metadata": {},
   "outputs": [],
   "source": []
  }
 ],
 "metadata": {
  "kernelspec": {
   "display_name": "ketsu",
   "language": "python",
   "name": "python3"
  },
  "language_info": {
   "codemirror_mode": {
    "name": "ipython",
    "version": 3
   },
   "file_extension": ".py",
   "mimetype": "text/x-python",
   "name": "python",
   "nbconvert_exporter": "python",
   "pygments_lexer": "ipython3",
   "version": "3.9.15"
  },
  "orig_nbformat": 4
 },
 "nbformat": 4,
 "nbformat_minor": 2
}
