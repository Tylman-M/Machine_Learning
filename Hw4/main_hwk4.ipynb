{
 "cells": [
  {
   "cell_type": "code",
   "execution_count": 2,
   "metadata": {},
   "outputs": [],
   "source": [
    "import pandas as pd, numpy as np, numpy.linalg as nl, inspect, seaborn as sns, plotly, plotly.express as px, pickle, plotly.graph_objects as go\n",
    "from sklearn.svm import SVC\n",
    "from tqdm import tqdm\n",
    "from matplotlib.pyplot import *\n",
    "from sklearn.decomposition import TruncatedSVD\n",
    "from sklearn.model_selection import GridSearchCV\n",
    "from pathlib import Path\n",
    "from sklearn.preprocessing import StandardScaler, RobustScaler, MinMaxScaler\n",
    "from sklearn.base import BaseEstimator\n",
    "from sklearn.pipeline import Pipeline\n",
    "\n"
   ]
  },
  {
   "cell_type": "code",
   "execution_count": 3,
   "metadata": {},
   "outputs": [],
   "source": [
    "\n",
    "## A misguided attempt at an interesting solution, until I realized \n",
    "## I didn't even need to do it this way at all\n",
    "# class ClfSwitcher(BaseEstimator):\n",
    "\n",
    "#     def __init__(\n",
    "#         self, \n",
    "#         estimator = SVC(),\n",
    "#     ):\n",
    "#         \"\"\"\n",
    "#         A Custom BaseEstimator that can switch between classifiers.\n",
    "#         :param estimator: sklearn object - The classifier\n",
    "#         \"\"\" \n",
    "\n",
    "#         self.estimator = estimator\n",
    "\n",
    "\n",
    "#     def fit(self, X, y=None, **kwargs):\n",
    "#         self.estimator.fit(X, y)\n",
    "#         return self\n",
    "\n",
    "\n",
    "#     def predict(self, X, y=None):\n",
    "#         return self.estimator.predict(X)\n",
    "\n",
    "\n",
    "#     def predict_proba(self, X):\n",
    "#         return self.estimator.predict_proba(X)\n",
    "\n",
    "\n",
    "#     def score(self, X, y):\n",
    "#         return self.estimator.score(X, y)"
   ]
  },
  {
   "cell_type": "code",
   "execution_count": 4,
   "metadata": {},
   "outputs": [],
   "source": [
    "# Pipe = Pipeline([('scaling',StandardScaler()), ('clf',ClfSwitcher())])\n",
    "\n",
    "\n",
    "# Params = [\n",
    "#     {\n",
    "#         'clf__estimator':[SVC(probability=True)],\n",
    "#         'scaling':['passthrough',StandardScaler(),RobustScaler(),MinMaxScaler()],\n",
    "#         'clf__estimator__kernel' : ['rbf'],\n",
    "#         'clf__estimator__gamma': [.1,1],\n",
    "#         'clf__estimator__C':[0,.1]\n",
    "#     }\n",
    "# ]"
   ]
  },
  {
   "cell_type": "code",
   "execution_count": 5,
   "metadata": {},
   "outputs": [],
   "source": [
    "train_x = pd.read_csv('Data/X_train.csv',header=None).values\n",
    "train_y = pd.read_csv('Data/y_train.csv',header=None).values.reshape(-1)\n",
    "test_x = pd.read_csv('Data/X_test.csv',header=None).values\n",
    "test_y = pd.read_csv('Data/y_test.csv',header=None).values.reshape(-1)"
   ]
  },
  {
   "cell_type": "code",
   "execution_count": 6,
   "metadata": {},
   "outputs": [],
   "source": [
    "train_model = True"
   ]
  },
  {
   "cell_type": "code",
   "execution_count": 7,
   "metadata": {},
   "outputs": [
    {
     "name": "stdout",
     "output_type": "stream",
     "text": [
      "Fitting 4 folds for each of 72 candidates, totalling 288 fits\n",
      "[CV 4/4; 1/72] START clf__C=0.1, clf__gamma=0.1, clf__kernel=rbf, scaler=passthrough\n",
      "[CV 1/4; 1/72] START clf__C=0.1, clf__gamma=0.1, clf__kernel=rbf, scaler=passthrough\n",
      "[CV 2/4; 1/72] START clf__C=0.1, clf__gamma=0.1, clf__kernel=rbf, scaler=passthrough\n",
      "[CV 3/4; 1/72] START clf__C=0.1, clf__gamma=0.1, clf__kernel=rbf, scaler=passthrough\n",
      "[CV 1/4; 2/72] START clf__C=0.1, clf__gamma=0.1, clf__kernel=rbf, scaler=StandardScaler()\n",
      "[CV 4/4; 2/72] START clf__C=0.1, clf__gamma=0.1, clf__kernel=rbf, scaler=StandardScaler()\n",
      "[CV 2/4; 2/72] START clf__C=0.1, clf__gamma=0.1, clf__kernel=rbf, scaler=StandardScaler()\n",
      "[CV 2/4; 3/72] START clf__C=0.1, clf__gamma=0.1, clf__kernel=rbf, scaler=RobustScaler()\n",
      "[CV 1/4; 3/72] START clf__C=0.1, clf__gamma=0.1, clf__kernel=rbf, scaler=RobustScaler()\n",
      "[CV 3/4; 2/72] START clf__C=0.1, clf__gamma=0.1, clf__kernel=rbf, scaler=StandardScaler()\n",
      "[CV 3/4; 3/72] START clf__C=0.1, clf__gamma=0.1, clf__kernel=rbf, scaler=RobustScaler()\n",
      "[CV 1/4; 4/72] START clf__C=0.1, clf__gamma=0.1, clf__kernel=rbf, scaler=MinMaxScaler()\n",
      "[CV 2/4; 4/72] START clf__C=0.1, clf__gamma=0.1, clf__kernel=rbf, scaler=MinMaxScaler()\n",
      "[CV 4/4; 3/72] START clf__C=0.1, clf__gamma=0.1, clf__kernel=rbf, scaler=RobustScaler()\n",
      "[CV 3/4; 4/72] START clf__C=0.1, clf__gamma=0.1, clf__kernel=rbf, scaler=MinMaxScaler()\n",
      "[CV 4/4; 4/72] START clf__C=0.1, clf__gamma=0.1, clf__kernel=rbf, scaler=MinMaxScaler()\n"
     ]
    }
   ],
   "source": [
    "if train_model:\n",
    "    scaling_options = ['passthrough',StandardScaler(),RobustScaler(),MinMaxScaler()]\n",
    "\n",
    "    svm_grids = [\n",
    "        {\n",
    "            'scaler':scaling_options,\n",
    "            'clf__kernel':['rbf','sigmoid'],\n",
    "            'clf__gamma':[.1,1],\n",
    "            'clf__C':[.1,1]\n",
    "        },\n",
    "        {\n",
    "            'scaler':scaling_options,\n",
    "            'clf__kernel':['poly'],\n",
    "            'clf__gamma':[.1,1],\n",
    "            'clf__C':[.1,1],\n",
    "            'clf__degree':[3,4]\n",
    "        },\n",
    "        {\n",
    "            'scaler':scaling_options,\n",
    "            'clf__kernel':['linear'],\n",
    "            'clf__C':[.1,1]\n",
    "        }\n",
    "    ]\n",
    "    svm_pipe = Pipeline([('scaler',StandardScaler()),('clf',SVC(probability=True))])\n",
    "    svm_cv = GridSearchCV(svm_pipe, svm_grids, n_jobs=-1, verbose=10, cv=4, return_train_score=True)\n",
    "    svm_cv.fit(train_x, train_y)"
   ]
  },
  {
   "cell_type": "code",
   "execution_count": null,
   "metadata": {},
   "outputs": [
    {
     "name": "stdout",
     "output_type": "stream",
     "text": [
      "Fitting 4 folds for each of 16 candidates, totalling 64 fits\n",
      "[CV 4/4; 1/16] START clf__estimator=SVC(probability=True), clf__estimator__C=0, clf__estimator__gamma=0.1, clf__estimator__kernel=rbf, scaling=passthrough\n",
      "[CV 1/4; 1/16] START clf__estimator=SVC(probability=True), clf__estimator__C=0, clf__estimator__gamma=0.1, clf__estimator__kernel=rbf, scaling=passthrough\n",
      "[CV 3/4; 1/16] START clf__estimator=SVC(probability=True), clf__estimator__C=0, clf__estimator__gamma=0.1, clf__estimator__kernel=rbf, scaling=passthrough\n",
      "[CV 1/4; 2/16] START clf__estimator=SVC(probability=True), clf__estimator__C=0, clf__estimator__gamma=0.1, clf__estimator__kernel=rbf, scaling=StandardScaler()\n",
      "[CV 2/4; 1/16] START clf__estimator=SVC(probability=True), clf__estimator__C=0, clf__estimator__gamma=0.1, clf__estimator__kernel=rbf, scaling=passthrough\n",
      "[CV 4/4; 2/16] START clf__estimator=SVC(probability=True), clf__estimator__C=0, clf__estimator__gamma=0.1, clf__estimator__kernel=rbf, scaling=StandardScaler()\n",
      "[CV 3/4; 2/16] START clf__estimator=SVC(probability=True), clf__estimator__C=0, clf__estimator__gamma=0.1, clf__estimator__kernel=rbf, scaling=StandardScaler()\n",
      "[CV 1/4; 3/16] START clf__estimator=SVC(probability=True), clf__estimator__C=0, clf__estimator__gamma=0.1, clf__estimator__kernel=rbf, scaling=RobustScaler()\n",
      "[CV 2/4; 3/16] START clf__estimator=SVC(probability=True), clf__estimator__C=0, clf__estimator__gamma=0.1, clf__estimator__kernel=rbf, scaling=RobustScaler()\n",
      "[CV 2/4; 2/16] START clf__estimator=SVC(probability=True), clf__estimator__C=0, clf__estimator__gamma=0.1, clf__estimator__kernel=rbf, scaling=StandardScaler()\n",
      "[CV 4/4; 3/16] START clf__estimator=SVC(probability=True), clf__estimator__C=0, clf__estimator__gamma=0.1, clf__estimator__kernel=rbf, scaling=RobustScaler()\n",
      "[CV 4/4; 1/16] END clf__estimator=SVC(probability=True), clf__estimator__C=0, clf__estimator__gamma=0.1, clf__estimator__kernel=rbf, scaling=passthrough;, score=(train=nan, test=nan) total time=   0.1s\n",
      "[CV 3/4; 3/16] START clf__estimator=SVC(probability=True), clf__estimator__C=0, clf__estimator__gamma=0.1, clf__estimator__kernel=rbf, scaling=RobustScaler()\n",
      "[CV 4/4; 4/16] START clf__estimator=SVC(probability=True), clf__estimator__C=0, clf__estimator__gamma=0.1, clf__estimator__kernel=rbf, scaling=MinMaxScaler()\n",
      "[CV 1/4; 4/16] START clf__estimator=SVC(probability=True), clf__estimator__C=0, clf__estimator__gamma=0.1, clf__estimator__kernel=rbf, scaling=MinMaxScaler()\n",
      "[CV 3/4; 1/16] END clf__estimator=SVC(probability=True), clf__estimator__C=0, clf__estimator__gamma=0.1, clf__estimator__kernel=rbf, scaling=passthrough;, score=(train=nan, test=nan) total time=   0.3s\n",
      "[CV 1/4; 5/16] START clf__estimator=SVC(probability=True), clf__estimator__C=0, clf__estimator__gamma=1, clf__estimator__kernel=rbf, scaling=passthrough\n",
      "[CV 1/4; 1/16] END clf__estimator=SVC(probability=True), clf__estimator__C=0, clf__estimator__gamma=0.1, clf__estimator__kernel=rbf, scaling=passthrough;, score=(train=nan, test=nan) total time=   0.3s\n",
      "[CV 2/4; 1/16] END clf__estimator=SVC(probability=True), clf__estimator__C=0, clf__estimator__gamma=0.1, clf__estimator__kernel=rbf, scaling=passthrough;, score=(train=nan, test=nan) total time=   0.3s\n",
      "[CV 3/4; 4/16] START clf__estimator=SVC(probability=True), clf__estimator__C=0, clf__estimator__gamma=0.1, clf__estimator__kernel=rbf, scaling=MinMaxScaler()\n",
      "[CV 2/4; 4/16] START clf__estimator=SVC(probability=True), clf__estimator__C=0, clf__estimator__gamma=0.1, clf__estimator__kernel=rbf, scaling=MinMaxScaler()\n",
      "[CV 1/4; 5/16] END clf__estimator=SVC(probability=True), clf__estimator__C=0, clf__estimator__gamma=1, clf__estimator__kernel=rbf, scaling=passthrough;, score=(train=nan, test=nan) total time=   0.2s\n",
      "[CV 3/4; 5/16] START clf__estimator=SVC(probability=True), clf__estimator__C=0, clf__estimator__gamma=1, clf__estimator__kernel=rbf, scaling=passthrough\n",
      "[CV 2/4; 5/16] START clf__estimator=SVC(probability=True), clf__estimator__C=0, clf__estimator__gamma=1, clf__estimator__kernel=rbf, scaling=passthrough\n",
      "[CV 4/4; 5/16] START clf__estimator=SVC(probability=True), clf__estimator__C=0, clf__estimator__gamma=1, clf__estimator__kernel=rbf, scaling=passthrough\n",
      "[CV 3/4; 2/16] END clf__estimator=SVC(probability=True), clf__estimator__C=0, clf__estimator__gamma=0.1, clf__estimator__kernel=rbf, scaling=StandardScaler();, score=(train=nan, test=nan) total time=   0.5s\n",
      "[CV 1/4; 6/16] START clf__estimator=SVC(probability=True), clf__estimator__C=0, clf__estimator__gamma=1, clf__estimator__kernel=rbf, scaling=StandardScaler()\n",
      "[CV 1/4; 2/16] END clf__estimator=SVC(probability=True), clf__estimator__C=0, clf__estimator__gamma=0.1, clf__estimator__kernel=rbf, scaling=StandardScaler();, score=(train=nan, test=nan) total time=   0.5s[CV 4/4; 4/16] END clf__estimator=SVC(probability=True), clf__estimator__C=0, clf__estimator__gamma=0.1, clf__estimator__kernel=rbf, scaling=MinMaxScaler();, score=(train=nan, test=nan) total time=   0.4s\n",
      "\n",
      "[CV 4/4; 2/16] END clf__estimator=SVC(probability=True), clf__estimator__C=0, clf__estimator__gamma=0.1, clf__estimator__kernel=rbf, scaling=StandardScaler();, score=(train=nan, test=nan) total time=   0.5s\n",
      "[CV 3/4; 5/16] END clf__estimator=SVC(probability=True), clf__estimator__C=0, clf__estimator__gamma=1, clf__estimator__kernel=rbf, scaling=passthrough;, score=(train=nan, test=nan) total time=   0.1s\n",
      "[CV 2/4; 6/16] START clf__estimator=SVC(probability=True), clf__estimator__C=0, clf__estimator__gamma=1, clf__estimator__kernel=rbf, scaling=StandardScaler()[CV 3/4; 6/16] START clf__estimator=SVC(probability=True), clf__estimator__C=0, clf__estimator__gamma=1, clf__estimator__kernel=rbf, scaling=StandardScaler()\n",
      "\n",
      "[CV 4/4; 5/16] END clf__estimator=SVC(probability=True), clf__estimator__C=0, clf__estimator__gamma=1, clf__estimator__kernel=rbf, scaling=passthrough;, score=(train=nan, test=nan) total time=   0.2s\n",
      "[CV 1/4; 7/16] START clf__estimator=SVC(probability=True), clf__estimator__C=0, clf__estimator__gamma=1, clf__estimator__kernel=rbf, scaling=RobustScaler()\n",
      "[CV 4/4; 6/16] START clf__estimator=SVC(probability=True), clf__estimator__C=0, clf__estimator__gamma=1, clf__estimator__kernel=rbf, scaling=StandardScaler()\n",
      "[CV 2/4; 7/16] START clf__estimator=SVC(probability=True), clf__estimator__C=0, clf__estimator__gamma=1, clf__estimator__kernel=rbf, scaling=RobustScaler()\n",
      "[CV 2/4; 5/16] END clf__estimator=SVC(probability=True), clf__estimator__C=0, clf__estimator__gamma=1, clf__estimator__kernel=rbf, scaling=passthrough;, score=(train=nan, test=nan) total time=   0.2s\n",
      "[CV 1/4; 4/16] END clf__estimator=SVC(probability=True), clf__estimator__C=0, clf__estimator__gamma=0.1, clf__estimator__kernel=rbf, scaling=MinMaxScaler();, score=(train=nan, test=nan) total time=   0.5s\n",
      "[CV 2/4; 2/16] END clf__estimator=SVC(probability=True), clf__estimator__C=0, clf__estimator__gamma=0.1, clf__estimator__kernel=rbf, scaling=StandardScaler();, score=(train=nan, test=nan) total time=   0.6s\n",
      "[CV 2/4; 4/16] END clf__estimator=SVC(probability=True), clf__estimator__C=0, clf__estimator__gamma=0.1, clf__estimator__kernel=rbf, scaling=MinMaxScaler();, score=(train=nan, test=nan) total time=   0.4s\n",
      "[CV 3/4; 4/16] END clf__estimator=SVC(probability=True), clf__estimator__C=0, clf__estimator__gamma=0.1, clf__estimator__kernel=rbf, scaling=MinMaxScaler();, score=(train=nan, test=nan) total time=   0.4s\n",
      "[CV 3/4; 7/16] START clf__estimator=SVC(probability=True), clf__estimator__C=0, clf__estimator__gamma=1, clf__estimator__kernel=rbf, scaling=RobustScaler()\n",
      "[CV 4/4; 7/16] START clf__estimator=SVC(probability=True), clf__estimator__C=0, clf__estimator__gamma=1, clf__estimator__kernel=rbf, scaling=RobustScaler()\n",
      "[CV 1/4; 8/16] START clf__estimator=SVC(probability=True), clf__estimator__C=0, clf__estimator__gamma=1, clf__estimator__kernel=rbf, scaling=MinMaxScaler()\n",
      "[CV 2/4; 8/16] START clf__estimator=SVC(probability=True), clf__estimator__C=0, clf__estimator__gamma=1, clf__estimator__kernel=rbf, scaling=MinMaxScaler()\n",
      "[CV 3/4; 8/16] START clf__estimator=SVC(probability=True), clf__estimator__C=0, clf__estimator__gamma=1, clf__estimator__kernel=rbf, scaling=MinMaxScaler()\n",
      "[CV 4/4; 8/16] START clf__estimator=SVC(probability=True), clf__estimator__C=0, clf__estimator__gamma=1, clf__estimator__kernel=rbf, scaling=MinMaxScaler()\n",
      "[CV 3/4; 6/16] END clf__estimator=SVC(probability=True), clf__estimator__C=0, clf__estimator__gamma=1, clf__estimator__kernel=rbf, scaling=StandardScaler();, score=(train=nan, test=nan) total time=   0.5s\n",
      "[CV 1/4; 6/16] END clf__estimator=SVC(probability=True), clf__estimator__C=0, clf__estimator__gamma=1, clf__estimator__kernel=rbf, scaling=StandardScaler();, score=(train=nan, test=nan) total time=   0.6s\n",
      "[CV 1/4; 9/16] START clf__estimator=SVC(probability=True), clf__estimator__C=0.1, clf__estimator__gamma=0.1, clf__estimator__kernel=rbf, scaling=passthrough\n",
      "[CV 2/4; 6/16] END clf__estimator=SVC(probability=True), clf__estimator__C=0, clf__estimator__gamma=1, clf__estimator__kernel=rbf, scaling=StandardScaler();, score=(train=nan, test=nan) total time=   0.5s\n",
      "[CV 2/4; 9/16] START clf__estimator=SVC(probability=True), clf__estimator__C=0.1, clf__estimator__gamma=0.1, clf__estimator__kernel=rbf, scaling=passthrough\n",
      "[CV 3/4; 9/16] START clf__estimator=SVC(probability=True), clf__estimator__C=0.1, clf__estimator__gamma=0.1, clf__estimator__kernel=rbf, scaling=passthrough[CV 1/4; 3/16] END clf__estimator=SVC(probability=True), clf__estimator__C=0, clf__estimator__gamma=0.1, clf__estimator__kernel=rbf, scaling=RobustScaler();, score=(train=nan, test=nan) total time=   1.1s\n",
      "[CV 4/4; 3/16] END clf__estimator=SVC(probability=True), clf__estimator__C=0, clf__estimator__gamma=0.1, clf__estimator__kernel=rbf, scaling=RobustScaler();, score=(train=nan, test=nan) total time=   1.1s\n",
      "\n",
      "[CV 2/4; 3/16] END clf__estimator=SVC(probability=True), clf__estimator__C=0, clf__estimator__gamma=0.1, clf__estimator__kernel=rbf, scaling=RobustScaler();, score=(train=nan, test=nan) total time=   1.1s\n",
      "[CV 1/4; 8/16] END clf__estimator=SVC(probability=True), clf__estimator__C=0, clf__estimator__gamma=1, clf__estimator__kernel=rbf, scaling=MinMaxScaler();, score=(train=nan, test=nan) total time=   0.4s\n",
      "[CV 4/4; 6/16] END clf__estimator=SVC(probability=True), clf__estimator__C=0, clf__estimator__gamma=1, clf__estimator__kernel=rbf, scaling=StandardScaler();, score=(train=nan, test=nan) total time=   0.5s\n",
      "[CV 4/4; 9/16] START clf__estimator=SVC(probability=True), clf__estimator__C=0.1, clf__estimator__gamma=0.1, clf__estimator__kernel=rbf, scaling=passthrough\n",
      "[CV 1/4; 10/16] START clf__estimator=SVC(probability=True), clf__estimator__C=0.1, clf__estimator__gamma=0.1, clf__estimator__kernel=rbf, scaling=StandardScaler()\n",
      "[CV 2/4; 10/16] START clf__estimator=SVC(probability=True), clf__estimator__C=0.1, clf__estimator__gamma=0.1, clf__estimator__kernel=rbf, scaling=StandardScaler()\n",
      "[CV 3/4; 10/16] START clf__estimator=SVC(probability=True), clf__estimator__C=0.1, clf__estimator__gamma=0.1, clf__estimator__kernel=rbf, scaling=StandardScaler()\n",
      "[CV 4/4; 10/16] START clf__estimator=SVC(probability=True), clf__estimator__C=0.1, clf__estimator__gamma=0.1, clf__estimator__kernel=rbf, scaling=StandardScaler()\n",
      "[CV 2/4; 8/16] END clf__estimator=SVC(probability=True), clf__estimator__C=0, clf__estimator__gamma=1, clf__estimator__kernel=rbf, scaling=MinMaxScaler();, score=(train=nan, test=nan) total time=   0.4s\n",
      "[CV 1/4; 11/16] START clf__estimator=SVC(probability=True), clf__estimator__C=0.1, clf__estimator__gamma=0.1, clf__estimator__kernel=rbf, scaling=RobustScaler()\n",
      "[CV 3/4; 8/16] END clf__estimator=SVC(probability=True), clf__estimator__C=0, clf__estimator__gamma=1, clf__estimator__kernel=rbf, scaling=MinMaxScaler();, score=(train=nan, test=nan) total time=   0.5s\n",
      "[CV 4/4; 8/16] END clf__estimator=SVC(probability=True), clf__estimator__C=0, clf__estimator__gamma=1, clf__estimator__kernel=rbf, scaling=MinMaxScaler();, score=(train=nan, test=nan) total time=   0.5s\n",
      "[CV 2/4; 11/16] START clf__estimator=SVC(probability=True), clf__estimator__C=0.1, clf__estimator__gamma=0.1, clf__estimator__kernel=rbf, scaling=RobustScaler()\n",
      "[CV 3/4; 11/16] START clf__estimator=SVC(probability=True), clf__estimator__C=0.1, clf__estimator__gamma=0.1, clf__estimator__kernel=rbf, scaling=RobustScaler()\n",
      "[CV 3/4; 3/16] END clf__estimator=SVC(probability=True), clf__estimator__C=0, clf__estimator__gamma=0.1, clf__estimator__kernel=rbf, scaling=RobustScaler();, score=(train=nan, test=nan) total time=   1.4s\n",
      "[CV 1/4; 7/16] END clf__estimator=SVC(probability=True), clf__estimator__C=0, clf__estimator__gamma=1, clf__estimator__kernel=rbf, scaling=RobustScaler();, score=(train=nan, test=nan) total time=   1.0s\n",
      "[CV 4/4; 11/16] START clf__estimator=SVC(probability=True), clf__estimator__C=0.1, clf__estimator__gamma=0.1, clf__estimator__kernel=rbf, scaling=RobustScaler()\n",
      "[CV 1/4; 12/16] START clf__estimator=SVC(probability=True), clf__estimator__C=0.1, clf__estimator__gamma=0.1, clf__estimator__kernel=rbf, scaling=MinMaxScaler()\n",
      "[CV 4/4; 7/16] END clf__estimator=SVC(probability=True), clf__estimator__C=0, clf__estimator__gamma=1, clf__estimator__kernel=rbf, scaling=RobustScaler();, score=(train=nan, test=nan) total time=   1.1s\n",
      "[CV 2/4; 12/16] START clf__estimator=SVC(probability=True), clf__estimator__C=0.1, clf__estimator__gamma=0.1, clf__estimator__kernel=rbf, scaling=MinMaxScaler()\n",
      "[CV 2/4; 7/16] END clf__estimator=SVC(probability=True), clf__estimator__C=0, clf__estimator__gamma=1, clf__estimator__kernel=rbf, scaling=RobustScaler();, score=(train=nan, test=nan) total time=   1.4s\n",
      "[CV 3/4; 12/16] START clf__estimator=SVC(probability=True), clf__estimator__C=0.1, clf__estimator__gamma=0.1, clf__estimator__kernel=rbf, scaling=MinMaxScaler()\n",
      "[CV 3/4; 7/16] END clf__estimator=SVC(probability=True), clf__estimator__C=0, clf__estimator__gamma=1, clf__estimator__kernel=rbf, scaling=RobustScaler();, score=(train=nan, test=nan) total time=   1.5s\n",
      "[CV 4/4; 12/16] START clf__estimator=SVC(probability=True), clf__estimator__C=0.1, clf__estimator__gamma=0.1, clf__estimator__kernel=rbf, scaling=MinMaxScaler()\n"
     ]
    }
   ],
   "source": [
    "cv_test.fit(train_x,train_y)"
   ]
  },
  {
   "cell_type": "code",
   "execution_count": null,
   "metadata": {},
   "outputs": [],
   "source": []
  }
 ],
 "metadata": {
  "kernelspec": {
   "display_name": "ketsu",
   "language": "python",
   "name": "python3"
  },
  "language_info": {
   "codemirror_mode": {
    "name": "ipython",
    "version": 3
   },
   "file_extension": ".py",
   "mimetype": "text/x-python",
   "name": "python",
   "nbconvert_exporter": "python",
   "pygments_lexer": "ipython3",
   "version": "3.9.15"
  },
  "orig_nbformat": 4,
  "vscode": {
   "interpreter": {
    "hash": "b8838fdd07c6d153f4e340eb7d7009c4cc67516cf5a662e14b6734fb5b5a0347"
   }
  }
 },
 "nbformat": 4,
 "nbformat_minor": 2
}
