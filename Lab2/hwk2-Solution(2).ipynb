{
 "cells": [
  {
   "cell_type": "code",
   "execution_count": 7,
   "metadata": {},
   "outputs": [],
   "source": [
    "import itertools\n",
    "from sklearn.neighbors import KNeighborsRegressor, KNeighborsClassifier\n",
    "import pandas as pd\n",
    "import numpy as np\n",
    "import matplotlib.pyplot as plt\n",
    "from sklearn.linear_model import LinearRegression, Ridge, Lasso, LogisticRegression\n",
    "from sklearn.svm import SVC\n",
    "from sklearn.pipeline import make_pipeline\n",
    "from sklearn.preprocessing import StandardScaler\n",
    "from sklearn.neighbors import NearestNeighbors\n",
    "from sklearn.model_selection import cross_validate"
   ]
  },
  {
   "cell_type": "markdown",
   "metadata": {},
   "source": [
    "# Classification"
   ]
  },
  {
   "cell_type": "code",
   "execution_count": 4,
   "metadata": {
    "scrolled": true
   },
   "outputs": [],
   "source": [
    "train_set = pd.read_csv(\"./SpamData/spam_train.csv\")\n",
    "test_set = pd.read_csv(\"./SpamData/spam_test.csv\")"
   ]
  },
  {
   "cell_type": "code",
   "execution_count": 5,
   "metadata": {},
   "outputs": [],
   "source": [
    "X_train = np.array(train_set[list(train_set.columns[1:-1])])\n",
    "y_train = np.array(train_set[\"class\"])\n",
    "X_test = np.array(test_set[list(test_set.columns[1:-1])])\n",
    "y_test = np.array(test_set[\"class\"])"
   ]
  },
  {
   "cell_type": "markdown",
   "metadata": {},
   "source": [
    "## KNN"
   ]
  },
  {
   "cell_type": "code",
   "execution_count": 13,
   "metadata": {},
   "outputs": [],
   "source": [
    "val_accs_knn = []\n",
    "train_accs_knn = []\n",
    "k_range = np.arange(1,21)\n",
    "for k in k_range:\n",
    "    knn = KNeighborsClassifier(n_neighbors=k)\n",
    "    cv_results = cross_validate(knn, X_train, y_train, cv=4, return_train_score=True)\n",
    "    \n",
    "    train_accs_knn.append(np.round(100*np.mean(cv_results[\"train_score\"]),2))\n",
    "    val_accs_knn.append(np.round(100*np.mean(cv_results[\"test_score\"]),2))"
   ]
  },
  {
   "cell_type": "code",
   "execution_count": 19,
   "metadata": {},
   "outputs": [
    {
     "data": {
      "text/plain": [
       "<matplotlib.legend.Legend at 0x1a9f072d1c0>"
      ]
     },
     "execution_count": 19,
     "metadata": {},
     "output_type": "execute_result"
    },
    {
     "data": {
      "image/png": "[encoded data removed]",
      "text/plain": [
       "<Figure size 432x288 with 1 Axes>"
      ]
     },
     "metadata": {
      "needs_background": "light"
     },
     "output_type": "display_data"
    }
   ],
   "source": [
    "plt.plot(k_range,train_accs_knn, marker=\"^\",label=\"Train\")\n",
    "plt.plot(k_range,val_accs_knn, marker=\"o\", label=\"Validation\")\n",
    "_ = plt.xticks(k_range)\n",
    "plt.xlabel(\"C\")\n",
    "plt.ylabel(\"Average Accuracy\")\n",
    "plt.ylim(bottom=75, top=100)\n",
    "plt.legend()"
   ]
  },
  {
   "cell_type": "code",
   "execution_count": 27,
   "metadata": {},
   "outputs": [
    {
     "data": {
      "text/plain": [
       "0.788010425716768"
      ]
     },
     "execution_count": 27,
     "metadata": {},
     "output_type": "execute_result"
    }
   ],
   "source": [
    "optimal_k = 5\n",
    "knn = KNeighborsClassifier(n_neighbors=optimal_k)\n",
    "knn.fit(X_train, y_train)\n",
    "\n",
    "TestAccuracy = knn.score(X_test, y_test)\n",
    "TestAccuracy"
   ]
  },
  {
   "cell_type": "code",
   "execution_count": 28,
   "metadata": {},
   "outputs": [],
   "source": [
    "# Indices of misclassified samples\n",
    "y_pred = knn.predict(X_test)\n",
    "misclassified_indices = np.where((y_pred!=y_test))[0]"
   ]
  },
  {
   "cell_type": "code",
   "execution_count": 29,
   "metadata": {},
   "outputs": [],
   "source": [
    "#Identify k nearest neighbors from the training set for each misclassified test sample\n",
    "k = 3\n",
    "nn = NearestNeighbors(n_neighbors=k)\n",
    "nn.fit(X_train)\n",
    "distances, indices = nn.kneighbors(X_test[misclassified_indices])"
   ]
  },
  {
   "cell_type": "code",
   "execution_count": 30,
   "metadata": {},
   "outputs": [],
   "source": [
    "columns = [\"Misclassified Test idx\", \"True Class\", \"Pred Class\"]\n",
    "for i in range(k):\n",
    "    columns+= [\"Neigbor#{}_idx\".format(i+1), \"Neigbor#{}_True Class\".format(i+1), \"Neigbor#{}_Distance\".format(i+1)]\n",
    "\n",
    "df = pd.DataFrame(columns = columns)\n",
    "\n",
    "df[\"Misclassified Test idx\"] = misclassified_indices\n",
    "df[\"True Class\"] =  y_test[misclassified_indices]\n",
    "df[\"Pred Class\"] = y_pred[misclassified_indices]\n",
    "for i in range(k):\n",
    "    df[\"Neigbor#{}_idx\".format(i+1)] = indices[:,i]\n",
    "    df[\"Neigbor#{}_True Class\".format(i+1)] = y_train[indices[:,i]]\n",
    "    df[\"Neigbor#{}_Distance\".format(i+1)] = np.around(distances[:,i], decimals=2)"
   ]
  },
  {
   "cell_type": "code",
   "execution_count": 113,
   "metadata": {},
   "outputs": [
    {
     "data": {
      "text/html": [
       "<div>\n",
       "<style scoped>\n",
       "    .dataframe tbody tr th:only-of-type {\n",
       "        vertical-align: middle;\n",
       "    }\n",
       "\n",
       "    .dataframe tbody tr th {\n",
       "        vertical-align: top;\n",
       "    }\n",
       "\n",
       "    .dataframe thead th {\n",
       "        text-align: right;\n",
       "    }\n",
       "</style>\n",
       "<table border=\"1\" class=\"dataframe\">\n",
       "  <thead>\n",
       "    <tr style=\"text-align: right;\">\n",
       "      <th></th>\n",
       "      <th>Misclassified Test idx</th>\n",
       "      <th>True Class</th>\n",
       "      <th>Pred Class</th>\n",
       "      <th>Neigbor#1_idx</th>\n",
       "      <th>Neigbor#1_True Class</th>\n",
       "      <th>Neigbor#1_Distance</th>\n",
       "      <th>Neigbor#2_idx</th>\n",
       "      <th>Neigbor#2_True Class</th>\n",
       "      <th>Neigbor#2_Distance</th>\n",
       "      <th>Neigbor#3_idx</th>\n",
       "      <th>Neigbor#3_True Class</th>\n",
       "      <th>Neigbor#3_Distance</th>\n",
       "    </tr>\n",
       "  </thead>\n",
       "  <tbody>\n",
       "    <tr>\n",
       "      <th>0</th>\n",
       "      <td>0</td>\n",
       "      <td>0</td>\n",
       "      <td>1</td>\n",
       "      <td>2757</td>\n",
       "      <td>1</td>\n",
       "      <td>2.81</td>\n",
       "      <td>922</td>\n",
       "      <td>1</td>\n",
       "      <td>3.38</td>\n",
       "      <td>1155</td>\n",
       "      <td>1</td>\n",
       "      <td>3.44</td>\n",
       "    </tr>\n",
       "    <tr>\n",
       "      <th>1</th>\n",
       "      <td>2</td>\n",
       "      <td>1</td>\n",
       "      <td>0</td>\n",
       "      <td>2084</td>\n",
       "      <td>0</td>\n",
       "      <td>2.62</td>\n",
       "      <td>86</td>\n",
       "      <td>1</td>\n",
       "      <td>2.85</td>\n",
       "      <td>1093</td>\n",
       "      <td>1</td>\n",
       "      <td>2.85</td>\n",
       "    </tr>\n",
       "    <tr>\n",
       "      <th>2</th>\n",
       "      <td>8</td>\n",
       "      <td>1</td>\n",
       "      <td>0</td>\n",
       "      <td>2378</td>\n",
       "      <td>1</td>\n",
       "      <td>2.25</td>\n",
       "      <td>811</td>\n",
       "      <td>0</td>\n",
       "      <td>3.15</td>\n",
       "      <td>2824</td>\n",
       "      <td>0</td>\n",
       "      <td>3.17</td>\n",
       "    </tr>\n",
       "    <tr>\n",
       "      <th>3</th>\n",
       "      <td>9</td>\n",
       "      <td>0</td>\n",
       "      <td>1</td>\n",
       "      <td>909</td>\n",
       "      <td>1</td>\n",
       "      <td>5.23</td>\n",
       "      <td>2690</td>\n",
       "      <td>0</td>\n",
       "      <td>5.53</td>\n",
       "      <td>3301</td>\n",
       "      <td>1</td>\n",
       "      <td>6.42</td>\n",
       "    </tr>\n",
       "    <tr>\n",
       "      <th>4</th>\n",
       "      <td>11</td>\n",
       "      <td>1</td>\n",
       "      <td>0</td>\n",
       "      <td>3221</td>\n",
       "      <td>1</td>\n",
       "      <td>0.00</td>\n",
       "      <td>1162</td>\n",
       "      <td>0</td>\n",
       "      <td>4.97</td>\n",
       "      <td>3139</td>\n",
       "      <td>0</td>\n",
       "      <td>5.28</td>\n",
       "    </tr>\n",
       "    <tr>\n",
       "      <th>...</th>\n",
       "      <td>...</td>\n",
       "      <td>...</td>\n",
       "      <td>...</td>\n",
       "      <td>...</td>\n",
       "      <td>...</td>\n",
       "      <td>...</td>\n",
       "      <td>...</td>\n",
       "      <td>...</td>\n",
       "      <td>...</td>\n",
       "      <td>...</td>\n",
       "      <td>...</td>\n",
       "      <td>...</td>\n",
       "    </tr>\n",
       "    <tr>\n",
       "      <th>239</th>\n",
       "      <td>1129</td>\n",
       "      <td>1</td>\n",
       "      <td>0</td>\n",
       "      <td>1207</td>\n",
       "      <td>1</td>\n",
       "      <td>3.02</td>\n",
       "      <td>3174</td>\n",
       "      <td>0</td>\n",
       "      <td>4.64</td>\n",
       "      <td>2744</td>\n",
       "      <td>0</td>\n",
       "      <td>5.86</td>\n",
       "    </tr>\n",
       "    <tr>\n",
       "      <th>240</th>\n",
       "      <td>1134</td>\n",
       "      <td>1</td>\n",
       "      <td>0</td>\n",
       "      <td>499</td>\n",
       "      <td>0</td>\n",
       "      <td>9.12</td>\n",
       "      <td>3078</td>\n",
       "      <td>1</td>\n",
       "      <td>10.20</td>\n",
       "      <td>1056</td>\n",
       "      <td>0</td>\n",
       "      <td>12.19</td>\n",
       "    </tr>\n",
       "    <tr>\n",
       "      <th>241</th>\n",
       "      <td>1137</td>\n",
       "      <td>1</td>\n",
       "      <td>0</td>\n",
       "      <td>1588</td>\n",
       "      <td>1</td>\n",
       "      <td>2.00</td>\n",
       "      <td>1854</td>\n",
       "      <td>1</td>\n",
       "      <td>5.21</td>\n",
       "      <td>360</td>\n",
       "      <td>0</td>\n",
       "      <td>7.20</td>\n",
       "    </tr>\n",
       "    <tr>\n",
       "      <th>242</th>\n",
       "      <td>1139</td>\n",
       "      <td>0</td>\n",
       "      <td>1</td>\n",
       "      <td>1735</td>\n",
       "      <td>0</td>\n",
       "      <td>3.16</td>\n",
       "      <td>2483</td>\n",
       "      <td>1</td>\n",
       "      <td>6.24</td>\n",
       "      <td>865</td>\n",
       "      <td>1</td>\n",
       "      <td>6.42</td>\n",
       "    </tr>\n",
       "    <tr>\n",
       "      <th>243</th>\n",
       "      <td>1147</td>\n",
       "      <td>1</td>\n",
       "      <td>0</td>\n",
       "      <td>331</td>\n",
       "      <td>0</td>\n",
       "      <td>4.91</td>\n",
       "      <td>3047</td>\n",
       "      <td>1</td>\n",
       "      <td>4.99</td>\n",
       "      <td>153</td>\n",
       "      <td>0</td>\n",
       "      <td>5.14</td>\n",
       "    </tr>\n",
       "  </tbody>\n",
       "</table>\n",
       "<p>244 rows × 12 columns</p>\n",
       "</div>"
      ],
      "text/plain": [
       "     Misclassified Test idx  True Class  Pred Class  Neigbor#1_idx  \\\n",
       "0                         0           0           1           2757   \n",
       "1                         2           1           0           2084   \n",
       "2                         8           1           0           2378   \n",
       "3                         9           0           1            909   \n",
       "4                        11           1           0           3221   \n",
       "..                      ...         ...         ...            ...   \n",
       "239                    1129           1           0           1207   \n",
       "240                    1134           1           0            499   \n",
       "241                    1137           1           0           1588   \n",
       "242                    1139           0           1           1735   \n",
       "243                    1147           1           0            331   \n",
       "\n",
       "     Neigbor#1_True Class  Neigbor#1_Distance  Neigbor#2_idx  \\\n",
       "0                       1                2.81            922   \n",
       "1                       0                2.62             86   \n",
       "2                       1                2.25            811   \n",
       "3                       1                5.23           2690   \n",
       "4                       1                0.00           1162   \n",
       "..                    ...                 ...            ...   \n",
       "239                     1                3.02           3174   \n",
       "240                     0                9.12           3078   \n",
       "241                     1                2.00           1854   \n",
       "242                     0                3.16           2483   \n",
       "243                     0                4.91           3047   \n",
       "\n",
       "     Neigbor#2_True Class  Neigbor#2_Distance  Neigbor#3_idx  \\\n",
       "0                       1                3.38           1155   \n",
       "1                       1                2.85           1093   \n",
       "2                       0                3.15           2824   \n",
       "3                       0                5.53           3301   \n",
       "4                       0                4.97           3139   \n",
       "..                    ...                 ...            ...   \n",
       "239                     0                4.64           2744   \n",
       "240                     1               10.20           1056   \n",
       "241                     1                5.21            360   \n",
       "242                     1                6.24            865   \n",
       "243                     1                4.99            153   \n",
       "\n",
       "     Neigbor#3_True Class  Neigbor#3_Distance  \n",
       "0                       1                3.44  \n",
       "1                       1                2.85  \n",
       "2                       0                3.17  \n",
       "3                       1                6.42  \n",
       "4                       0                5.28  \n",
       "..                    ...                 ...  \n",
       "239                     0                5.86  \n",
       "240                     0               12.19  \n",
       "241                     0                7.20  \n",
       "242                     1                6.42  \n",
       "243                     0                5.14  \n",
       "\n",
       "[244 rows x 12 columns]"
      ]
     },
     "execution_count": 113,
     "metadata": {},
     "output_type": "execute_result"
    }
   ],
   "source": [
    "df"
   ]
  },
  {
   "cell_type": "code",
   "execution_count": 123,
   "metadata": {},
   "outputs": [
    {
     "name": "stdout",
     "output_type": "stream",
     "text": [
      "Test sample 1147 is misclassified.\n",
      "True class: 1\n",
      "Predicted class: 0\n",
      "Neighbor#1: Train index 331 ; True Class 0 ; Distance 4.91\n",
      "Neighbor#2: Train index 3047 ; True Class 1 ; Distance 4.99\n",
      "Neighbor#3: Train index 153 ; True Class 0 ; Distance 5.14\n"
     ]
    }
   ],
   "source": [
    "idx = 243 #between 0 and 243\n",
    "print(\"Test sample {} is misclassified.\".format(misclassified_indices[idx]))\n",
    "print(\"True class: {}\".format(y_test[misclassified_indices][idx]))\n",
    "print(\"Predicted class: {}\".format(y_pred[misclassified_indices][idx]))\n",
    "for i in range(k):\n",
    "    print(\"Neighbor#{}: Train index {} ; True Class {} ; Distance {:.2f}\".format(i+1, indices[idx,i], y_train[indices[idx,i]], distances[idx, i]))"
   ]
  },
  {
   "cell_type": "markdown",
   "metadata": {},
   "source": [
    "## Logistic Regression"
   ]
  },
  {
   "cell_type": "code",
   "execution_count": 50,
   "metadata": {
    "scrolled": true
   },
   "outputs": [],
   "source": [
    "val_accs_LR = []\n",
    "train_accs_LR = []\n",
    "c_vals = [0.1,1.0,2.0,3.0,5.0, 10]\n",
    "for i in c_vals:\n",
    "    LR = LogisticRegression(random_state=0, C=i, solver = \"liblinear\")\n",
    "    cv_results = cross_validate(LR, X_train, y_train, cv=4, return_train_score=True)\n",
    "\n",
    "    train_accs_LR.append(np.round(100*np.mean(cv_results[\"train_score\"]),2))\n",
    "    val_accs_LR.append(np.round(100*np.mean(cv_results[\"test_score\"]),2))"
   ]
  },
  {
   "cell_type": "code",
   "execution_count": 55,
   "metadata": {
    "scrolled": true
   },
   "outputs": [
    {
     "data": {
      "text/plain": [
       "<matplotlib.legend.Legend at 0x1a9f0cbea60>"
      ]
     },
     "execution_count": 55,
     "metadata": {},
     "output_type": "execute_result"
    },
    {
     "data": {
      "image/png": "[encoded data removed]",
      "text/plain": [
       "<Figure size 432x288 with 1 Axes>"
      ]
     },
     "metadata": {
      "needs_background": "light"
     },
     "output_type": "display_data"
    }
   ],
   "source": [
    "plt.plot(c_vals,train_accs_LR, marker=\"^\",label=\"Train\")\n",
    "plt.plot(c_vals,val_accs_LR, marker=\"o\", label=\"Validation\")\n",
    "_ = plt.xticks(c_vals)\n",
    "plt.xlabel(\"C\")\n",
    "plt.ylabel(\"Average Accuracy\")\n",
    "plt.ylim(bottom=90, top=96)\n",
    "plt.legend()"
   ]
  },
  {
   "cell_type": "markdown",
   "metadata": {},
   "source": [
    "### RUN FROM HERE"
   ]
  },
  {
   "cell_type": "code",
   "execution_count": 69,
   "metadata": {},
   "outputs": [
    {
     "data": {
      "text/plain": [
       "0.9226759339704604"
      ]
     },
     "execution_count": 69,
     "metadata": {},
     "output_type": "execute_result"
    }
   ],
   "source": [
    "optimal_C = 1.0\n",
    "LR = LogisticRegression(random_state=0, C=i, solver = \"liblinear\")\n",
    "LR.fit(X_train, y_train)\n",
    "\n",
    "TestAccuracy = LR.score(X_test, y_test)\n",
    "TestAccuracy\n"
   ]
  },
  {
   "cell_type": "code",
   "execution_count": 140,
   "metadata": {},
   "outputs": [],
   "source": [
    "# Indices of misclassified samples\n",
    "y_pred = LR.predict(X_test)\n",
    "misclassified_indices = np.where((y_pred!=y_test))[0]"
   ]
  },
  {
   "cell_type": "code",
   "execution_count": 141,
   "metadata": {},
   "outputs": [],
   "source": [
    "#Identify k nearest neighbors from the training set for each misclassified test sample\n",
    "k = 3\n",
    "nn = NearestNeighbors(n_neighbors=k)\n",
    "nn.fit(X_train)\n",
    "distances, indices = nn.kneighbors(X_test[misclassified_indices])"
   ]
  },
  {
   "cell_type": "code",
   "execution_count": 142,
   "metadata": {},
   "outputs": [],
   "source": [
    "columns = [\"Misclassified Test idx\", \"True Class\", \"Pred Class\"]\n",
    "for i in range(k):\n",
    "    columns+= [\"Neigbor#{}_idx\".format(i+1), \"Neigbor#{}_True Class\".format(i+1), \"Neigbor#{}_Distance\".format(i+1)]\n",
    "\n",
    "df = pd.DataFrame(columns = columns)\n",
    "\n",
    "df[\"Misclassified Test idx\"] = misclassified_indices\n",
    "df[\"True Class\"] =  y_test[misclassified_indices]\n",
    "df[\"Pred Class\"] = y_pred[misclassified_indices]\n",
    "for i in range(k):\n",
    "    df[\"Neigbor#{}_idx\".format(i+1)] = indices[:,i]\n",
    "    df[\"Neigbor#{}_True Class\".format(i+1)] = y_train[indices[:,i]]\n",
    "    df[\"Neigbor#{}_Distance\".format(i+1)] = np.around(distances[:,i], decimals=2)"
   ]
  },
  {
   "cell_type": "code",
   "execution_count": 143,
   "metadata": {},
   "outputs": [
    {
     "data": {
      "text/html": [
       "<div>\n",
       "<style scoped>\n",
       "    .dataframe tbody tr th:only-of-type {\n",
       "        vertical-align: middle;\n",
       "    }\n",
       "\n",
       "    .dataframe tbody tr th {\n",
       "        vertical-align: top;\n",
       "    }\n",
       "\n",
       "    .dataframe thead th {\n",
       "        text-align: right;\n",
       "    }\n",
       "</style>\n",
       "<table border=\"1\" class=\"dataframe\">\n",
       "  <thead>\n",
       "    <tr style=\"text-align: right;\">\n",
       "      <th></th>\n",
       "      <th>Misclassified Test idx</th>\n",
       "      <th>True Class</th>\n",
       "      <th>Pred Class</th>\n",
       "      <th>Neigbor#1_idx</th>\n",
       "      <th>Neigbor#1_True Class</th>\n",
       "      <th>Neigbor#1_Distance</th>\n",
       "      <th>Neigbor#2_idx</th>\n",
       "      <th>Neigbor#2_True Class</th>\n",
       "      <th>Neigbor#2_Distance</th>\n",
       "      <th>Neigbor#3_idx</th>\n",
       "      <th>Neigbor#3_True Class</th>\n",
       "      <th>Neigbor#3_Distance</th>\n",
       "    </tr>\n",
       "  </thead>\n",
       "  <tbody>\n",
       "    <tr>\n",
       "      <th>0</th>\n",
       "      <td>22</td>\n",
       "      <td>1</td>\n",
       "      <td>0</td>\n",
       "      <td>3181</td>\n",
       "      <td>1</td>\n",
       "      <td>4.17</td>\n",
       "      <td>3440</td>\n",
       "      <td>0</td>\n",
       "      <td>4.40</td>\n",
       "      <td>1792</td>\n",
       "      <td>0</td>\n",
       "      <td>4.41</td>\n",
       "    </tr>\n",
       "    <tr>\n",
       "      <th>1</th>\n",
       "      <td>26</td>\n",
       "      <td>1</td>\n",
       "      <td>0</td>\n",
       "      <td>3415</td>\n",
       "      <td>0</td>\n",
       "      <td>4.56</td>\n",
       "      <td>3054</td>\n",
       "      <td>1</td>\n",
       "      <td>5.01</td>\n",
       "      <td>2961</td>\n",
       "      <td>0</td>\n",
       "      <td>11.85</td>\n",
       "    </tr>\n",
       "    <tr>\n",
       "      <th>2</th>\n",
       "      <td>32</td>\n",
       "      <td>1</td>\n",
       "      <td>0</td>\n",
       "      <td>935</td>\n",
       "      <td>0</td>\n",
       "      <td>2.04</td>\n",
       "      <td>3177</td>\n",
       "      <td>0</td>\n",
       "      <td>2.09</td>\n",
       "      <td>2100</td>\n",
       "      <td>1</td>\n",
       "      <td>2.39</td>\n",
       "    </tr>\n",
       "    <tr>\n",
       "      <th>3</th>\n",
       "      <td>52</td>\n",
       "      <td>1</td>\n",
       "      <td>0</td>\n",
       "      <td>2233</td>\n",
       "      <td>1</td>\n",
       "      <td>0.55</td>\n",
       "      <td>2747</td>\n",
       "      <td>0</td>\n",
       "      <td>2.46</td>\n",
       "      <td>3417</td>\n",
       "      <td>1</td>\n",
       "      <td>3.30</td>\n",
       "    </tr>\n",
       "    <tr>\n",
       "      <th>4</th>\n",
       "      <td>53</td>\n",
       "      <td>1</td>\n",
       "      <td>0</td>\n",
       "      <td>2147</td>\n",
       "      <td>0</td>\n",
       "      <td>4.96</td>\n",
       "      <td>1391</td>\n",
       "      <td>0</td>\n",
       "      <td>7.80</td>\n",
       "      <td>1990</td>\n",
       "      <td>0</td>\n",
       "      <td>8.55</td>\n",
       "    </tr>\n",
       "    <tr>\n",
       "      <th>...</th>\n",
       "      <td>...</td>\n",
       "      <td>...</td>\n",
       "      <td>...</td>\n",
       "      <td>...</td>\n",
       "      <td>...</td>\n",
       "      <td>...</td>\n",
       "      <td>...</td>\n",
       "      <td>...</td>\n",
       "      <td>...</td>\n",
       "      <td>...</td>\n",
       "      <td>...</td>\n",
       "      <td>...</td>\n",
       "    </tr>\n",
       "    <tr>\n",
       "      <th>83</th>\n",
       "      <td>1120</td>\n",
       "      <td>0</td>\n",
       "      <td>1</td>\n",
       "      <td>3120</td>\n",
       "      <td>0</td>\n",
       "      <td>5.42</td>\n",
       "      <td>1034</td>\n",
       "      <td>1</td>\n",
       "      <td>5.90</td>\n",
       "      <td>1097</td>\n",
       "      <td>0</td>\n",
       "      <td>6.06</td>\n",
       "    </tr>\n",
       "    <tr>\n",
       "      <th>84</th>\n",
       "      <td>1125</td>\n",
       "      <td>1</td>\n",
       "      <td>0</td>\n",
       "      <td>2598</td>\n",
       "      <td>1</td>\n",
       "      <td>1.01</td>\n",
       "      <td>12</td>\n",
       "      <td>1</td>\n",
       "      <td>5.19</td>\n",
       "      <td>2918</td>\n",
       "      <td>0</td>\n",
       "      <td>5.42</td>\n",
       "    </tr>\n",
       "    <tr>\n",
       "      <th>85</th>\n",
       "      <td>1131</td>\n",
       "      <td>1</td>\n",
       "      <td>0</td>\n",
       "      <td>1580</td>\n",
       "      <td>0</td>\n",
       "      <td>3.00</td>\n",
       "      <td>3131</td>\n",
       "      <td>1</td>\n",
       "      <td>5.23</td>\n",
       "      <td>3419</td>\n",
       "      <td>1</td>\n",
       "      <td>5.29</td>\n",
       "    </tr>\n",
       "    <tr>\n",
       "      <th>86</th>\n",
       "      <td>1141</td>\n",
       "      <td>1</td>\n",
       "      <td>0</td>\n",
       "      <td>62</td>\n",
       "      <td>1</td>\n",
       "      <td>0.00</td>\n",
       "      <td>1734</td>\n",
       "      <td>1</td>\n",
       "      <td>0.00</td>\n",
       "      <td>631</td>\n",
       "      <td>1</td>\n",
       "      <td>0.00</td>\n",
       "    </tr>\n",
       "    <tr>\n",
       "      <th>87</th>\n",
       "      <td>1144</td>\n",
       "      <td>0</td>\n",
       "      <td>1</td>\n",
       "      <td>1290</td>\n",
       "      <td>0</td>\n",
       "      <td>7.49</td>\n",
       "      <td>3078</td>\n",
       "      <td>1</td>\n",
       "      <td>8.16</td>\n",
       "      <td>499</td>\n",
       "      <td>0</td>\n",
       "      <td>9.04</td>\n",
       "    </tr>\n",
       "  </tbody>\n",
       "</table>\n",
       "<p>88 rows × 12 columns</p>\n",
       "</div>"
      ],
      "text/plain": [
       "    Misclassified Test idx  True Class  Pred Class  Neigbor#1_idx  \\\n",
       "0                       22           1           0           3181   \n",
       "1                       26           1           0           3415   \n",
       "2                       32           1           0            935   \n",
       "3                       52           1           0           2233   \n",
       "4                       53           1           0           2147   \n",
       "..                     ...         ...         ...            ...   \n",
       "83                    1120           0           1           3120   \n",
       "84                    1125           1           0           2598   \n",
       "85                    1131           1           0           1580   \n",
       "86                    1141           1           0             62   \n",
       "87                    1144           0           1           1290   \n",
       "\n",
       "    Neigbor#1_True Class  Neigbor#1_Distance  Neigbor#2_idx  \\\n",
       "0                      1                4.17           3440   \n",
       "1                      0                4.56           3054   \n",
       "2                      0                2.04           3177   \n",
       "3                      1                0.55           2747   \n",
       "4                      0                4.96           1391   \n",
       "..                   ...                 ...            ...   \n",
       "83                     0                5.42           1034   \n",
       "84                     1                1.01             12   \n",
       "85                     0                3.00           3131   \n",
       "86                     1                0.00           1734   \n",
       "87                     0                7.49           3078   \n",
       "\n",
       "    Neigbor#2_True Class  Neigbor#2_Distance  Neigbor#3_idx  \\\n",
       "0                      0                4.40           1792   \n",
       "1                      1                5.01           2961   \n",
       "2                      0                2.09           2100   \n",
       "3                      0                2.46           3417   \n",
       "4                      0                7.80           1990   \n",
       "..                   ...                 ...            ...   \n",
       "83                     1                5.90           1097   \n",
       "84                     1                5.19           2918   \n",
       "85                     1                5.23           3419   \n",
       "86                     1                0.00            631   \n",
       "87                     1                8.16            499   \n",
       "\n",
       "    Neigbor#3_True Class  Neigbor#3_Distance  \n",
       "0                      0                4.41  \n",
       "1                      0               11.85  \n",
       "2                      1                2.39  \n",
       "3                      1                3.30  \n",
       "4                      0                8.55  \n",
       "..                   ...                 ...  \n",
       "83                     0                6.06  \n",
       "84                     0                5.42  \n",
       "85                     1                5.29  \n",
       "86                     1                0.00  \n",
       "87                     0                9.04  \n",
       "\n",
       "[88 rows x 12 columns]"
      ]
     },
     "execution_count": 143,
     "metadata": {},
     "output_type": "execute_result"
    }
   ],
   "source": [
    "df"
   ]
  },
  {
   "cell_type": "code",
   "execution_count": 144,
   "metadata": {},
   "outputs": [
    {
     "name": "stdout",
     "output_type": "stream",
     "text": [
      "Test sample 26 is misclassified.\n",
      "True class: 1\n",
      "Predicted class: 0\n",
      "Neighbor#1: Train index 3415 ; True Class 0 ; Distance 4.56\n",
      "Neighbor#2: Train index 3054 ; True Class 1 ; Distance 5.01\n",
      "Neighbor#3: Train index 2961 ; True Class 0 ; Distance 11.85\n"
     ]
    }
   ],
   "source": [
    "idx = 1 #between 0 and 87\n",
    "print(\"Test sample {} is misclassified.\".format(misclassified_indices[idx]))\n",
    "print(\"True class: {}\".format(y_test[misclassified_indices][idx]))\n",
    "print(\"Predicted class: {}\".format(y_pred[misclassified_indices][idx]))\n",
    "for i in range(k):\n",
    "    print(\"Neighbor#{}: Train index {} ; True Class {} ; Distance {:.2f}\".format(i+1, indices[idx,i], y_train[indices[idx,i]], distances[idx, i]))"
   ]
  },
  {
   "cell_type": "markdown",
   "metadata": {},
   "source": [
    "## Linear Support Vector Machines Classifier"
   ]
  },
  {
   "cell_type": "code",
   "execution_count": null,
   "metadata": {},
   "outputs": [],
   "source": []
  },
  {
   "cell_type": "code",
   "execution_count": 74,
   "metadata": {
    "scrolled": true
   },
   "outputs": [],
   "source": [
    "val_accs_SVM = []\n",
    "train_accs_SVM = []\n",
    "c_vals = [0.1,1.0,5.0, 10.0, 15.0, 20.0]\n",
    "for i in c_vals:\n",
    "    SVM = make_pipeline(StandardScaler(), SVC(gamma='auto', probability=True, C=i)) \n",
    "    cv_results = cross_validate(SVM, X_train, y_train, cv=4, return_train_score=True)\n",
    "\n",
    "    train_accs_SVM.append(np.round(100*np.mean(cv_results[\"train_score\"]),2))\n",
    "    val_accs_SVM.append(np.round(100*np.mean(cv_results[\"test_score\"]),2))"
   ]
  },
  {
   "cell_type": "code",
   "execution_count": 75,
   "metadata": {
    "scrolled": true
   },
   "outputs": [
    {
     "data": {
      "text/plain": [
       "<matplotlib.legend.Legend at 0x1a9f1f104c0>"
      ]
     },
     "execution_count": 75,
     "metadata": {},
     "output_type": "execute_result"
    },
    {
     "data": {
      "image/png": "[encoded data removed]",
      "text/plain": [
       "<Figure size 432x288 with 1 Axes>"
      ]
     },
     "metadata": {
      "needs_background": "light"
     },
     "output_type": "display_data"
    }
   ],
   "source": [
    "plt.plot(c_vals,train_accs_SVM, marker=\"^\",label=\"Train\")\n",
    "plt.plot(c_vals,val_accs_SVM, marker=\"o\", label=\"Validation\")\n",
    "_ = plt.xticks(c_vals)\n",
    "plt.xlabel(\"C\")\n",
    "plt.ylabel(\"Average Accuracy\")\n",
    "plt.ylim(bottom=90, top=100)\n",
    "plt.legend()"
   ]
  },
  {
   "cell_type": "code",
   "execution_count": 76,
   "metadata": {},
   "outputs": [
    {
     "data": {
      "text/plain": [
       "0.9235447437011295"
      ]
     },
     "execution_count": 76,
     "metadata": {},
     "output_type": "execute_result"
    }
   ],
   "source": [
    "optimal_C = 5.0\n",
    "SVM = make_pipeline(StandardScaler(), SVC(gamma='auto', probability=True, C=i))\n",
    "SVM.fit(X_train, y_train)\n",
    "TestAccuracy = SVM.score(X_test, y_test)\n",
    "TestAccuracy"
   ]
  },
  {
   "cell_type": "code",
   "execution_count": 64,
   "metadata": {},
   "outputs": [],
   "source": [
    "# Indices of misclassified samples\n",
    "y_pred = clf.predict(X_test)\n",
    "misclassified_indices = np.where((y_pred!=y_test))[0]"
   ]
  },
  {
   "cell_type": "code",
   "execution_count": 65,
   "metadata": {},
   "outputs": [],
   "source": [
    "#Identify k nearest neighbors from the training set for each misclassified test sample\n",
    "k = 3\n",
    "nn = NearestNeighbors(n_neighbors=k)\n",
    "nn.fit(X_train)\n",
    "distances, indices = nn.kneighbors(X_test[misclassified_indices])"
   ]
  },
  {
   "cell_type": "code",
   "execution_count": 66,
   "metadata": {},
   "outputs": [],
   "source": [
    "columns = [\"Misclassified Test idx\", \"True Class\", \"Pred Class\"]\n",
    "for i in range(k):\n",
    "    columns+= [\"Neigbor#{}_idx\".format(i+1), \"Neigbor#{}_True Class\".format(i+1), \"Neigbor#{}_Distance\".format(i+1)]\n",
    "\n",
    "df = pd.DataFrame(columns = columns)\n",
    "\n",
    "df[\"Misclassified Test idx\"] = misclassified_indices\n",
    "df[\"True Class\"] =  y_test[misclassified_indices]\n",
    "df[\"Pred Class\"] = y_pred[misclassified_indices]\n",
    "for i in range(k):\n",
    "    df[\"Neigbor#{}_idx\".format(i+1)] = indices[:,i]\n",
    "    df[\"Neigbor#{}_True Class\".format(i+1)] = y_train[indices[:,i]]\n",
    "    df[\"Neigbor#{}_Distance\".format(i+1)] = np.around(distances[:,i], decimals=2)"
   ]
  },
  {
   "cell_type": "code",
   "execution_count": 67,
   "metadata": {},
   "outputs": [
    {
     "data": {
      "text/html": [
       "<div>\n",
       "<style scoped>\n",
       "    .dataframe tbody tr th:only-of-type {\n",
       "        vertical-align: middle;\n",
       "    }\n",
       "\n",
       "    .dataframe tbody tr th {\n",
       "        vertical-align: top;\n",
       "    }\n",
       "\n",
       "    .dataframe thead th {\n",
       "        text-align: right;\n",
       "    }\n",
       "</style>\n",
       "<table border=\"1\" class=\"dataframe\">\n",
       "  <thead>\n",
       "    <tr style=\"text-align: right;\">\n",
       "      <th></th>\n",
       "      <th>Misclassified Test idx</th>\n",
       "      <th>True Class</th>\n",
       "      <th>Pred Class</th>\n",
       "      <th>Neigbor#1_idx</th>\n",
       "      <th>Neigbor#1_True Class</th>\n",
       "      <th>Neigbor#1_Distance</th>\n",
       "      <th>Neigbor#2_idx</th>\n",
       "      <th>Neigbor#2_True Class</th>\n",
       "      <th>Neigbor#2_Distance</th>\n",
       "      <th>Neigbor#3_idx</th>\n",
       "      <th>Neigbor#3_True Class</th>\n",
       "      <th>Neigbor#3_Distance</th>\n",
       "    </tr>\n",
       "  </thead>\n",
       "  <tbody>\n",
       "    <tr>\n",
       "      <th>0</th>\n",
       "      <td>22</td>\n",
       "      <td>1</td>\n",
       "      <td>0</td>\n",
       "      <td>3181</td>\n",
       "      <td>1</td>\n",
       "      <td>4.17</td>\n",
       "      <td>3440</td>\n",
       "      <td>0</td>\n",
       "      <td>4.40</td>\n",
       "      <td>1792</td>\n",
       "      <td>0</td>\n",
       "      <td>4.41</td>\n",
       "    </tr>\n",
       "    <tr>\n",
       "      <th>1</th>\n",
       "      <td>26</td>\n",
       "      <td>1</td>\n",
       "      <td>0</td>\n",
       "      <td>3415</td>\n",
       "      <td>0</td>\n",
       "      <td>4.56</td>\n",
       "      <td>3054</td>\n",
       "      <td>1</td>\n",
       "      <td>5.01</td>\n",
       "      <td>2961</td>\n",
       "      <td>0</td>\n",
       "      <td>11.85</td>\n",
       "    </tr>\n",
       "    <tr>\n",
       "      <th>2</th>\n",
       "      <td>32</td>\n",
       "      <td>1</td>\n",
       "      <td>0</td>\n",
       "      <td>935</td>\n",
       "      <td>0</td>\n",
       "      <td>2.04</td>\n",
       "      <td>3177</td>\n",
       "      <td>0</td>\n",
       "      <td>2.09</td>\n",
       "      <td>2100</td>\n",
       "      <td>1</td>\n",
       "      <td>2.39</td>\n",
       "    </tr>\n",
       "    <tr>\n",
       "      <th>3</th>\n",
       "      <td>51</td>\n",
       "      <td>1</td>\n",
       "      <td>0</td>\n",
       "      <td>579</td>\n",
       "      <td>1</td>\n",
       "      <td>2.33</td>\n",
       "      <td>1001</td>\n",
       "      <td>0</td>\n",
       "      <td>2.78</td>\n",
       "      <td>491</td>\n",
       "      <td>1</td>\n",
       "      <td>2.82</td>\n",
       "    </tr>\n",
       "    <tr>\n",
       "      <th>4</th>\n",
       "      <td>52</td>\n",
       "      <td>1</td>\n",
       "      <td>0</td>\n",
       "      <td>2233</td>\n",
       "      <td>1</td>\n",
       "      <td>0.55</td>\n",
       "      <td>2747</td>\n",
       "      <td>0</td>\n",
       "      <td>2.46</td>\n",
       "      <td>3417</td>\n",
       "      <td>1</td>\n",
       "      <td>3.30</td>\n",
       "    </tr>\n",
       "    <tr>\n",
       "      <th>...</th>\n",
       "      <td>...</td>\n",
       "      <td>...</td>\n",
       "      <td>...</td>\n",
       "      <td>...</td>\n",
       "      <td>...</td>\n",
       "      <td>...</td>\n",
       "      <td>...</td>\n",
       "      <td>...</td>\n",
       "      <td>...</td>\n",
       "      <td>...</td>\n",
       "      <td>...</td>\n",
       "      <td>...</td>\n",
       "    </tr>\n",
       "    <tr>\n",
       "      <th>84</th>\n",
       "      <td>1120</td>\n",
       "      <td>0</td>\n",
       "      <td>1</td>\n",
       "      <td>3120</td>\n",
       "      <td>0</td>\n",
       "      <td>5.42</td>\n",
       "      <td>1034</td>\n",
       "      <td>1</td>\n",
       "      <td>5.90</td>\n",
       "      <td>1097</td>\n",
       "      <td>0</td>\n",
       "      <td>6.06</td>\n",
       "    </tr>\n",
       "    <tr>\n",
       "      <th>85</th>\n",
       "      <td>1125</td>\n",
       "      <td>1</td>\n",
       "      <td>0</td>\n",
       "      <td>2598</td>\n",
       "      <td>1</td>\n",
       "      <td>1.01</td>\n",
       "      <td>12</td>\n",
       "      <td>1</td>\n",
       "      <td>5.19</td>\n",
       "      <td>2918</td>\n",
       "      <td>0</td>\n",
       "      <td>5.42</td>\n",
       "    </tr>\n",
       "    <tr>\n",
       "      <th>86</th>\n",
       "      <td>1131</td>\n",
       "      <td>1</td>\n",
       "      <td>0</td>\n",
       "      <td>1580</td>\n",
       "      <td>0</td>\n",
       "      <td>3.00</td>\n",
       "      <td>3131</td>\n",
       "      <td>1</td>\n",
       "      <td>5.23</td>\n",
       "      <td>3419</td>\n",
       "      <td>1</td>\n",
       "      <td>5.29</td>\n",
       "    </tr>\n",
       "    <tr>\n",
       "      <th>87</th>\n",
       "      <td>1141</td>\n",
       "      <td>1</td>\n",
       "      <td>0</td>\n",
       "      <td>62</td>\n",
       "      <td>1</td>\n",
       "      <td>0.00</td>\n",
       "      <td>1734</td>\n",
       "      <td>1</td>\n",
       "      <td>0.00</td>\n",
       "      <td>631</td>\n",
       "      <td>1</td>\n",
       "      <td>0.00</td>\n",
       "    </tr>\n",
       "    <tr>\n",
       "      <th>88</th>\n",
       "      <td>1144</td>\n",
       "      <td>0</td>\n",
       "      <td>1</td>\n",
       "      <td>1290</td>\n",
       "      <td>0</td>\n",
       "      <td>7.49</td>\n",
       "      <td>3078</td>\n",
       "      <td>1</td>\n",
       "      <td>8.16</td>\n",
       "      <td>499</td>\n",
       "      <td>0</td>\n",
       "      <td>9.04</td>\n",
       "    </tr>\n",
       "  </tbody>\n",
       "</table>\n",
       "<p>89 rows × 12 columns</p>\n",
       "</div>"
      ],
      "text/plain": [
       "    Misclassified Test idx  True Class  Pred Class  Neigbor#1_idx  \\\n",
       "0                       22           1           0           3181   \n",
       "1                       26           1           0           3415   \n",
       "2                       32           1           0            935   \n",
       "3                       51           1           0            579   \n",
       "4                       52           1           0           2233   \n",
       "..                     ...         ...         ...            ...   \n",
       "84                    1120           0           1           3120   \n",
       "85                    1125           1           0           2598   \n",
       "86                    1131           1           0           1580   \n",
       "87                    1141           1           0             62   \n",
       "88                    1144           0           1           1290   \n",
       "\n",
       "    Neigbor#1_True Class  Neigbor#1_Distance  Neigbor#2_idx  \\\n",
       "0                      1                4.17           3440   \n",
       "1                      0                4.56           3054   \n",
       "2                      0                2.04           3177   \n",
       "3                      1                2.33           1001   \n",
       "4                      1                0.55           2747   \n",
       "..                   ...                 ...            ...   \n",
       "84                     0                5.42           1034   \n",
       "85                     1                1.01             12   \n",
       "86                     0                3.00           3131   \n",
       "87                     1                0.00           1734   \n",
       "88                     0                7.49           3078   \n",
       "\n",
       "    Neigbor#2_True Class  Neigbor#2_Distance  Neigbor#3_idx  \\\n",
       "0                      0                4.40           1792   \n",
       "1                      1                5.01           2961   \n",
       "2                      0                2.09           2100   \n",
       "3                      0                2.78            491   \n",
       "4                      0                2.46           3417   \n",
       "..                   ...                 ...            ...   \n",
       "84                     1                5.90           1097   \n",
       "85                     1                5.19           2918   \n",
       "86                     1                5.23           3419   \n",
       "87                     1                0.00            631   \n",
       "88                     1                8.16            499   \n",
       "\n",
       "    Neigbor#3_True Class  Neigbor#3_Distance  \n",
       "0                      0                4.41  \n",
       "1                      0               11.85  \n",
       "2                      1                2.39  \n",
       "3                      1                2.82  \n",
       "4                      1                3.30  \n",
       "..                   ...                 ...  \n",
       "84                     0                6.06  \n",
       "85                     0                5.42  \n",
       "86                     1                5.29  \n",
       "87                     1                0.00  \n",
       "88                     0                9.04  \n",
       "\n",
       "[89 rows x 12 columns]"
      ]
     },
     "execution_count": 67,
     "metadata": {},
     "output_type": "execute_result"
    }
   ],
   "source": [
    "df"
   ]
  },
  {
   "cell_type": "code",
   "execution_count": 138,
   "metadata": {},
   "outputs": [
    {
     "name": "stdout",
     "output_type": "stream",
     "text": [
      "Test sample 26 is misclassified.\n",
      "True class: 1\n",
      "Predicted class: 0\n",
      "Neighbor#1: Train index 3415 ; True Class 0 ; Distance 4.56\n",
      "Neighbor#2: Train index 3054 ; True Class 1 ; Distance 5.01\n",
      "Neighbor#3: Train index 2961 ; True Class 0 ; Distance 11.85\n"
     ]
    }
   ],
   "source": [
    "idx = 3 #between 0 and 89\n",
    "print(\"Test sample {} is misclassified.\".format(misclassified_indices[idx]))\n",
    "print(\"True class: {}\".format(y_test[misclassified_indices][idx]))\n",
    "print(\"Predicted class: {}\".format(y_pred[misclassified_indices][idx]))\n",
    "for i in range(k):\n",
    "    print(\"Neighbor#{}: Train index {} ; True Class {} ; Distance {:.2f}\".format(i+1, indices[idx,i], y_train[indices[idx,i]], distances[idx, i]))"
   ]
  },
  {
   "cell_type": "code",
   "execution_count": 68,
   "metadata": {},
   "outputs": [
    {
     "name": "stdout",
     "output_type": "stream",
     "text": [
      "Predicted probabilities KNN:\n",
      "[[0.2 0.8]\n",
      " [1.  0. ]\n",
      " [0.6 0.4]\n",
      " [1.  0. ]\n",
      " [0.8 0.2]\n",
      " [0.  1. ]]\n"
     ]
    }
   ],
   "source": [
    "print(\"Predicted probabilities KNN:\\n{}\".format(knn.predict_proba(X_test[:6])))\n"
   ]
  },
  {
   "cell_type": "code",
   "execution_count": 71,
   "metadata": {},
   "outputs": [
    {
     "name": "stdout",
     "output_type": "stream",
     "text": [
      "Predicted probabilities LR:\n",
      "[[8.24594983e-01 1.75405017e-01]\n",
      " [8.42203265e-01 1.57796735e-01]\n",
      " [1.10217092e-02 9.88978291e-01]\n",
      " [9.97777748e-01 2.22225234e-03]\n",
      " [9.99752258e-01 2.47742025e-04]\n",
      " [1.53034488e-01 8.46965512e-01]]\n"
     ]
    }
   ],
   "source": [
    "print(\"Predicted probabilities LR:\\n{}\".format(LR.predict_proba(X_test[:6])))"
   ]
  },
  {
   "cell_type": "code",
   "execution_count": 93,
   "metadata": {},
   "outputs": [
    {
     "name": "stdout",
     "output_type": "stream",
     "text": [
      "Predicted probabilities SVM:\n",
      "[[9.89171397e-01 1.08286027e-02]\n",
      " [9.87285509e-01 1.27144909e-02]\n",
      " [8.64049011e-07 9.99999136e-01]\n",
      " [8.14380000e-01 1.85620000e-01]\n",
      " [9.97469469e-01 2.53053072e-03]\n",
      " [8.23155769e-02 9.17684423e-01]]\n"
     ]
    }
   ],
   "source": [
    "print(\"Predicted probabilities SVM:\\n{}\".format(SVM.predict_proba(X_test[:6] )))"
   ]
  },
  {
   "cell_type": "code",
   "execution_count": 101,
   "metadata": {},
   "outputs": [],
   "source": [
    "SVM_Pred = SVM.predict_proba(X_test)\n",
    "KNN_Pred = knn.predict_proba(X_test)\n",
    "LR_Pred = LR.predict_proba(X_test)\n",
    " "
   ]
  },
  {
   "cell_type": "code",
   "execution_count": 100,
   "metadata": {},
   "outputs": [
    {
     "data": {
      "image/png": "[encoded data removed]",
      "text/plain": [
       "<Figure size 432x288 with 1 Axes>"
      ]
     },
     "metadata": {
      "needs_background": "light"
     },
     "output_type": "display_data"
    }
   ],
   "source": [
    "plt.scatter(KNN_Pred[:,1],SVM_Pred[:,1]   )\n",
    "plt.show()"
   ]
  },
  {
   "cell_type": "code",
   "execution_count": 102,
   "metadata": {},
   "outputs": [
    {
     "data": {
      "image/png": "[encoded data removed]",
      "text/plain": [
       "<Figure size 432x288 with 1 Axes>"
      ]
     },
     "metadata": {
      "needs_background": "light"
     },
     "output_type": "display_data"
    }
   ],
   "source": [
    "plt.scatter(LR_Pred[:,1],SVM_Pred[:,1]   )\n",
    "plt.show()\n"
   ]
  },
  {
   "cell_type": "code",
   "execution_count": null,
   "metadata": {},
   "outputs": [],
   "source": []
  }
 ],
 "metadata": {
  "kernelspec": {
   "display_name": "ketsu",
   "language": "python",
   "name": "python3"
  },
  "language_info": {
   "codemirror_mode": {
    "name": "ipython",
    "version": 3
   },
   "file_extension": ".py",
   "mimetype": "text/x-python",
   "name": "python",
   "nbconvert_exporter": "python",
   "pygments_lexer": "ipython3",
   "version": "3.9.15"
  },
  "vscode": {
   "interpreter": {
    "hash": "b8838fdd07c6d153f4e340eb7d7009c4cc67516cf5a662e14b6734fb5b5a0347"
   }
  }
 },
 "nbformat": 4,
 "nbformat_minor": 2
}
